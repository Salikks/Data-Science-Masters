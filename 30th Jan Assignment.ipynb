{
 "cells": [
  {
   "cell_type": "markdown",
   "id": "7f3bf7d8-ca27-4558-abdf-90b568d64b19",
   "metadata": {},
   "source": [
    "# 30th Jan Assignment:"
   ]
  },
  {
   "cell_type": "markdown",
   "id": "8480be2b-9b54-4999-830e-4727fbadd286",
   "metadata": {},
   "source": [
    "### 1. Write a program to accept percentage from the user and display the grade according to the following criteria."
   ]
  },
  {
   "cell_type": "code",
   "execution_count": 23,
   "id": "3e0ce921-f45b-455a-be09-9978c62abd3d",
   "metadata": {},
   "outputs": [
    {
     "name": "stdin",
     "output_type": "stream",
     "text": [
      "Please enter your percentage:  s\n"
     ]
    },
    {
     "name": "stdout",
     "output_type": "stream",
     "text": [
      "Invalid input. Please enter a valid percentage as a whole number.\n"
     ]
    },
    {
     "name": "stdin",
     "output_type": "stream",
     "text": [
      "Please enter your percentage:  60\n"
     ]
    },
    {
     "name": "stdout",
     "output_type": "stream",
     "text": [
      "You've received grade C\n"
     ]
    }
   ],
   "source": [
    "\n",
    "while True:\n",
    "    try:\n",
    "        marks = int(input('Please enter your percentage: '))\n",
    "        if 0 <= marks <= 100:\n",
    "            if marks > 90:\n",
    "                print('You\\'ve received grade A')\n",
    "            elif marks > 80:\n",
    "                print('You\\'ve received grade B')\n",
    "            elif marks >= 60:\n",
    "                print('You\\'ve received grade C')\n",
    "            else:\n",
    "                print('You\\'ve received grade D')\n",
    "            break  # Exit the loop if valid input is received\n",
    "        else:\n",
    "            print('Percentage should be between 0 and 100. Try again.')\n",
    "    except ValueError:\n",
    "        print('Invalid input. Please enter a valid percentage as a whole number.')\n",
    "        "
   ]
  },
  {
   "cell_type": "markdown",
   "id": "43102e0a-1347-4a59-bacb-fcd937275c58",
   "metadata": {},
   "source": [
    "### 2. Write a program to accept cost price of a bike and display the road tax to be paid according to the following criteria."
   ]
  },
  {
   "cell_type": "code",
   "execution_count": 31,
   "id": "340c097f-d451-4520-9142-2448642125d3",
   "metadata": {},
   "outputs": [
    {
     "name": "stdin",
     "output_type": "stream",
     "text": [
      "Please enter the cost price of the bike:  36\n"
     ]
    },
    {
     "name": "stdout",
     "output_type": "stream",
     "text": [
      "The road tax for your bike, priced at 36 is 1.80\n",
      "The total price including road tax is 37.80\n"
     ]
    }
   ],
   "source": [
    "\n",
    "road_tax = 0\n",
    "\n",
    "while True:\n",
    "    try:\n",
    "        cost_price = int(input('Please enter the cost price of the bike: '))\n",
    "        if cost_price >= 100000:\n",
    "            road_tax = cost_price * 0.15\n",
    "        elif cost_price >= 50000:\n",
    "            road_tax = cost_price * 0.10\n",
    "        else:\n",
    "            road_tax = cost_price * 0.05\n",
    "        break\n",
    "    except ValueError:\n",
    "        print('Invalid input. Please enter a valid price as a whole number.')\n",
    "\n",
    "total_price = cost_price + road_tax\n",
    "print(f\"The road tax for your bike, priced at {cost_price} is {road_tax:.2f}\")\n",
    "print(f\"The total price including road tax is {total_price:.2f}\")\n",
    "\n",
    "        \n",
    "    "
   ]
  },
  {
   "cell_type": "markdown",
   "id": "33e7619c-117c-45ad-919a-e0a2736dce84",
   "metadata": {},
   "source": [
    "### 3. Accept any city from the user and display monuments of that city."
   ]
  },
  {
   "cell_type": "code",
   "execution_count": 3,
   "id": "6797a2ff-4476-444d-adcc-873aa9d44d63",
   "metadata": {},
   "outputs": [
    {
     "name": "stdin",
     "output_type": "stream",
     "text": [
      "Please enter the name of the City:  Agra\n"
     ]
    },
    {
     "name": "stdout",
     "output_type": "stream",
     "text": [
      "The monument of the city Agra is Taj Mahal.\n"
     ]
    }
   ],
   "source": [
    "\n",
    "cities = ['Delhi', 'Agra', 'Jaipur']\n",
    "\n",
    "while True:\n",
    "    city = input('Please enter the name of the City: ')\n",
    "\n",
    "    if city in cities:\n",
    "        if city == 'Delhi':\n",
    "            print(f'The monument of the city {city} is Red Fort.')\n",
    "        elif city == 'Agra':\n",
    "            print(f'The monument of the city {city} is Taj Mahal.')\n",
    "        elif city == 'Jaipur':\n",
    "            print(f'The monument of the city {city} is Jal Mahal.')\n",
    "        break\n",
    "    else:\n",
    "        print('Invalid city name. Please enter a valid city name.')\n",
    "\n"
   ]
  },
  {
   "cell_type": "markdown",
   "id": "e0c1a05d-340a-466b-869d-4af4bbe22039",
   "metadata": {},
   "source": [
    "### 4. Check how many times a given number can be divided by 3 before it is less than or equal to 10."
   ]
  },
  {
   "cell_type": "code",
   "execution_count": 9,
   "id": "c615754d-3733-4d56-901d-373f50df27ba",
   "metadata": {},
   "outputs": [
    {
     "name": "stdin",
     "output_type": "stream",
     "text": [
      "Enter any number:  30000\n"
     ]
    },
    {
     "name": "stdout",
     "output_type": "stream",
     "text": [
      "8\n"
     ]
    }
   ],
   "source": [
    "number = int(input('Enter any number: '))\n",
    "iterations = 0\n",
    "\n",
    "while number > 10:\n",
    "    iterations += 1\n",
    "    number = number/3\n",
    "\n",
    "print(iterations)"
   ]
  },
  {
   "cell_type": "markdown",
   "id": "4c950d2a-dd21-47a9-b8be-c414270e9452",
   "metadata": {},
   "source": [
    "### 5. Why and when to use while loop in Python give detailed description with example."
   ]
  },
  {
   "cell_type": "code",
   "execution_count": 17,
   "id": "5154dfac-ea43-41e9-9947-9000535e512a",
   "metadata": {},
   "outputs": [
    {
     "name": "stdin",
     "output_type": "stream",
     "text": [
      "Enter a positive integer:  5\n"
     ]
    },
    {
     "name": "stdout",
     "output_type": "stream",
     "text": [
      "The factorial of 5 is 120.\n"
     ]
    }
   ],
   "source": [
    "#In Python, a while loop is used to repeatedly execute a block of code as long as a given condition remains true. It is a form of iterative control flow that allows you to execute code multiple times until a specific condition is met. The loop continues as long as the condition evaluates to True, and it stops as soon as the condition becomes False or when a break statement is encountered within the loop.\n",
    "\n",
    "#When to use a while loop:\n",
    "#1. Unknown or variable iteration count: While loops are suitable when you don't know in advance how many times the loop needs to be executed. The loop keeps running until a certain condition becomes False, making it ideal for scenarios where the exact number of iterations depends on user input or external factors.\n",
    "\n",
    "#2. Iteration based on a condition: When you want to repeat a process based on a specific condition rather than a fixed count, while loops offer flexibility. As long as the condition remains True, the loop will continue execution.\n",
    "\n",
    "number = int(input(\"Enter a positive integer: \"))\n",
    "factorial = 1\n",
    "i = 1\n",
    "\n",
    "while i <= number:\n",
    "    factorial *= i\n",
    "    i += 1\n",
    "\n",
    "print(f\"The factorial of {number} is {factorial}.\")\n",
    "\n"
   ]
  },
  {
   "cell_type": "markdown",
   "id": "1d7a491f-f91e-4e8a-b512-525da504b957",
   "metadata": {},
   "source": [
    "### 6. Use nested while loop to print 3 different pattern"
   ]
  },
  {
   "cell_type": "code",
   "execution_count": 11,
   "id": "78310941-5c6e-439e-9b9a-d448f1b9a91a",
   "metadata": {},
   "outputs": [
    {
     "name": "stdout",
     "output_type": "stream",
     "text": [
      "*\n",
      "**\n",
      "***\n",
      "****\n",
      "*****\n",
      "*****\n",
      "*   *\n",
      "*   *\n",
      "*   *\n",
      "*****\n",
      "*****\n",
      "****\n",
      "***\n",
      "**\n",
      "*\n"
     ]
    }
   ],
   "source": [
    "\n",
    "# 1st pattern\n",
    "row = 1\n",
    "while row <= 5:\n",
    "    col = 1\n",
    "    while col <= row:\n",
    "        print(\"*\", end=\"\")\n",
    "        col += 1\n",
    "    print()\n",
    "    row += 1\n",
    "\n",
    "rows = 5\n",
    "cols = 5\n",
    "\n",
    "# 2nd pattern\n",
    "row = 1\n",
    "while row <= rows:\n",
    "    col = 1\n",
    "    while col <= cols:\n",
    "        if row == 1 or row == rows or col == 1 or col == cols:\n",
    "            print(\"*\", end=\"\")\n",
    "        else:\n",
    "            print(\" \", end=\"\")\n",
    "        col += 1\n",
    "    print()\n",
    "    row += 1\n",
    "\n",
    "# 3rd pattern\n",
    "row = 5\n",
    "while row >= 1:\n",
    "    col = 1\n",
    "    while col <= row:\n",
    "        print(\"*\", end=\"\")\n",
    "        col += 1\n",
    "    print()\n",
    "    row -= 1\n"
   ]
  },
  {
   "cell_type": "markdown",
   "id": "6136dea6-c649-4579-972d-c70f20e8e977",
   "metadata": {},
   "source": [
    "### 7. Reverse a while loop to display numbers from 10 to 1."
   ]
  },
  {
   "cell_type": "code",
   "execution_count": 12,
   "id": "4d56c88a-c8e7-4d93-895b-dcd74ef28471",
   "metadata": {},
   "outputs": [
    {
     "name": "stdout",
     "output_type": "stream",
     "text": [
      "10\n",
      "9\n",
      "8\n",
      "7\n",
      "6\n",
      "5\n",
      "4\n",
      "3\n",
      "2\n",
      "1\n"
     ]
    }
   ],
   "source": [
    "num = 10\n",
    "while num > 0:\n",
    "    print(num)\n",
    "    num -= 1"
   ]
  },
  {
   "cell_type": "code",
   "execution_count": null,
   "id": "d85913a0-c94f-4c54-a301-e46164f95e8f",
   "metadata": {},
   "outputs": [],
   "source": []
  }
 ],
 "metadata": {
  "kernelspec": {
   "display_name": "Python 3 (ipykernel)",
   "language": "python",
   "name": "python3"
  },
  "language_info": {
   "codemirror_mode": {
    "name": "ipython",
    "version": 3
   },
   "file_extension": ".py",
   "mimetype": "text/x-python",
   "name": "python",
   "nbconvert_exporter": "python",
   "pygments_lexer": "ipython3",
   "version": "3.11.4"
  }
 },
 "nbformat": 4,
 "nbformat_minor": 5
}
