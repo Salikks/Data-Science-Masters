{
 "cells": [
  {
   "cell_type": "markdown",
   "id": "e04c2507-0793-4fbf-a75d-037070370d1b",
   "metadata": {},
   "source": [
    "### Q1. What is multithreading in python? Why is it used? Name the module used to handle threads in python."
   ]
  },
  {
   "cell_type": "code",
   "execution_count": 20,
   "id": "bee24714-f99f-4e3c-bd85-6cda048dc765",
   "metadata": {},
   "outputs": [],
   "source": [
    "# Multithreading in Python:\n",
    "# Multithreading is a technique that allows a single program to run multiple threads concurrently within the same process.\n",
    "# Each thread represents an independent flow of execution that can perform its tasks simultaneously with other threads.\n",
    "\n",
    "# Why Multithreading is Used:\n",
    "# Python multithreading enables efficient utilization of the resources as the threads share the data space and memory.\n",
    "# Multithreading in Python allows the concurrent and parallel occurrence of various tasks.\n",
    "# It causes a reduction in time consumption or response time, thereby increasing the performance.\n",
    "\n",
    "# Module for Handling Threads in Python:\n",
    "# The module used to handle threads in Python is called threading.\n",
    "# It provides classes and functions to create, manage, and synchronize threads in a program. "
   ]
  },
  {
   "cell_type": "markdown",
   "id": "77619b9c-208b-4323-b5a5-b53a87c6e695",
   "metadata": {},
   "source": [
    "### Q2. Why threading module used? rite the use of the following functions:\n",
    "1. activeCount()\n",
    "2. currentThread()\n",
    "3. enumerate()"
   ]
  },
  {
   "cell_type": "code",
   "execution_count": 13,
   "id": "edae2083-3d0c-45bc-8b00-5594a332849f",
   "metadata": {},
   "outputs": [
    {
     "name": "stdout",
     "output_type": "stream",
     "text": [
      "Thread is running.\n",
      "Thread is running.\n",
      "Number of active threads: 6\n",
      "Current thread name: Thread-31 (my_thread2)\n",
      "Thread is running.\n",
      "Thread is running.\n",
      "List of thread objects: [<_MainThread(MainThread, started 10408)>, <Thread(IOPub, started daemon 8308)>, <Heartbeat(Heartbeat, started daemon 7216)>, <ControlThread(Control, started daemon 12628)>, <HistorySavingThread(IPythonHistorySavingThread, started 17312)>, <ParentPollerWindows(Thread-4, started daemon 2408)>]\n"
     ]
    }
   ],
   "source": [
    "# The threading module in Python is used to work with threads, enabling the creation, management, and synchronization of threads within a program.\n",
    "\n",
    "import threading\n",
    "\n",
    "# activeCount():\n",
    "# The activeCount() function is used to return the number of Thread objects currently alive.\n",
    "# A Thread object represents a thread of execution created using the threading module.\n",
    "def my_thread1():\n",
    "    print(\"Thread is running.\")\n",
    "\n",
    "thread1 = threading.Thread(target=my_thread1)\n",
    "thread2 = threading.Thread(target=my_thread1)\n",
    "\n",
    "thread1.start()\n",
    "thread2.start()\n",
    "\n",
    "print(\"Number of active threads:\", threading.active_count())\n",
    "\n",
    "# currentThread():\n",
    "# The currentThread() function returns the current Thread object corresponding to the caller's thread of execution\n",
    "def my_thread2():\n",
    "    current = threading.current_thread()\n",
    "    print(\"Current thread name:\", current.name)\n",
    "\n",
    "thread3 = threading.Thread(target=my_thread2)\n",
    "thread3.start()\n",
    "\n",
    "# enumerate():\n",
    "# The enumerate() function returns a list of all Thread objects currently alive.\n",
    "# It can also take an argument to specify a certain type of thread object (e.g., daemonic threads) to include.\n",
    "\n",
    "def my_thread3():\n",
    "    print(\"Thread is running.\")\n",
    "\n",
    "thread4 = threading.Thread(target=my_thread3)\n",
    "thread5 = threading.Thread(target=my_thread3)\n",
    "\n",
    "thread4.start()\n",
    "thread5.start()\n",
    "\n",
    "threads = threading.enumerate()\n",
    "print(\"List of thread objects:\", threads)\n"
   ]
  },
  {
   "cell_type": "markdown",
   "id": "7d864971-7a9d-4cb0-a13c-4491e420e507",
   "metadata": {},
   "source": [
    "### Q3. Explain the following functions:"
   ]
  },
  {
   "cell_type": "code",
   "execution_count": 4,
   "id": "360bc5cc-55ca-4efc-94b5-0f67eb288d9e",
   "metadata": {},
   "outputs": [
    {
     "name": "stdout",
     "output_type": "stream",
     "text": [
      "Thread is running.\n",
      "Thread is running.\n",
      "Thread is running.\n",
      "Thread has finished.\n",
      "Is thread alive? True\n",
      "Thread is done.\n",
      "Is thread alive? False\n"
     ]
    }
   ],
   "source": [
    "# a. run()\n",
    "# The run() method is the entry point for the thread's execution logic.\n",
    "# It is meant to be overridden by a subclass of the Thread class (or a class that inherits from it). \n",
    "\n",
    "import threading\n",
    "\n",
    "class MyThread(threading.Thread):\n",
    "    def run(self):\n",
    "        print(\"Custom thread logic.\")\n",
    "\n",
    "thread = MyThread()\n",
    "thread.start()  # This starts a new thread and executes the overridden run() method\n",
    "\n",
    "\n",
    "# b. start)\n",
    "# The start() method is used to start the execution of a thread by invoking the run() method of the thread.\n",
    "# When start() is called, a new thread of execution is created, and the run() method's logic is executed in that new thread.\n",
    "\n",
    "def my_function():\n",
    "    print(\"Thread is running.\")\n",
    "\n",
    "thread = threading.Thread(target=my_function)\n",
    "thread.start()\n",
    "\n",
    "# c. join()\n",
    "# The join() method is used to wait for a thread to finish its execution.\n",
    "# When you call join() on a thread, the program will block until that thread completes its execution.\n",
    "\n",
    "def my_function():\n",
    "    print(\"Thread is running.\")\n",
    "\n",
    "thread = threading.Thread(target=my_function)\n",
    "thread.start()\n",
    "\n",
    "thread.join()\n",
    "print(\"Thread has finished.\")\n",
    "\n",
    "# d. isAlive()\n",
    "# The isAlive() method returns True if a thread is currently executing, and False otherwise.\n",
    "import time\n",
    "\n",
    "def my_function():\n",
    "    time.sleep(2)\n",
    "    print(\"Thread is done.\")\n",
    "\n",
    "thread = threading.Thread(target=my_function)\n",
    "thread.start()\n",
    "\n",
    "print(\"Is thread alive?\", thread.is_alive())\n",
    "thread.join()\n",
    "print(\"Is thread alive?\", thread.is_alive())\n"
   ]
  },
  {
   "cell_type": "markdown",
   "id": "15fdc67e-96d7-44df-a99c-a73b11dcb914",
   "metadata": {},
   "source": [
    "### Q4. Write a python program to create two threads. Thread one must print the list of squares and thread two must print the list of cubes."
   ]
  },
  {
   "cell_type": "code",
   "execution_count": 19,
   "id": "6caf1af4-31c8-462d-a01d-4f7481e7ba0c",
   "metadata": {},
   "outputs": [
    {
     "name": "stdout",
     "output_type": "stream",
     "text": [
      "Squared list: [1, 4, 9, 16, 25]\n",
      "Cubed list: [1, 8, 27, 64, 125]\n"
     ]
    }
   ],
   "source": [
    "import threading\n",
    "\n",
    "sq_list = []\n",
    "cu_list = []\n",
    "\n",
    "def sq(i):\n",
    "    sq_list.append(i**2)\n",
    "\n",
    "def cu(i):\n",
    "    cu_list.append(i**3)\n",
    "\n",
    "thread1 = [threading.Thread(target=sq, args=(i,)) for i in range(1, 6)]\n",
    "thread2 = [threading.Thread(target=cu, args=(i,)) for i in range(1, 6)]\n",
    "\n",
    "for t in thread1:\n",
    "    t.start()\n",
    "for t in thread2:\n",
    "    t.start()\n",
    "\n",
    "for t in thread1:\n",
    "    t.join()\n",
    "for t in thread2:\n",
    "    t.join()\n",
    "\n",
    "print(\"Squared list:\", sq_list)\n",
    "print(\"Cubed list:\", cu_list)\n"
   ]
  },
  {
   "cell_type": "markdown",
   "id": "1340f4d2-a13f-4b96-aadd-5b978dc344aa",
   "metadata": {},
   "source": [
    "### Q5. State advantages and disadvantages of multithreading."
   ]
  },
  {
   "cell_type": "markdown",
   "id": "113d7375-900b-4de5-87ae-445b1ecc13a2",
   "metadata": {},
   "source": [
    "Multithreading offers various advantages and disadvantages, which can impact the performance, complexity, and efficiency of your applications.\n",
    "\n",
    "\r\n",
    "**Advantages of Multithreading:**\r\n",
    "\r\n",
    "1. **Concurrency:** Allows multiple tasks to run simultaneously, improving efficiency.\r\n",
    "\r\n",
    "2. **Responsiveness:** Enhances responsiveness in applications with user interfaces.\r\n",
    "\r\n",
    "3. **Resource Sharing:** Threads share memory space, enabling efficient data sharing.\r\n",
    "\r\n",
    "**Disadvantages of Multithreading:**\r\n",
    "\r\n",
    "1. **Complexity:** Designing, debugging, and maintaining multithreaded code is complex.\r\n",
    "\r\n",
    "2. **Synchronization Overhead:** Managing shared resources with synchronization mechanisms introduces overhead.\r\n",
    "\r\n",
    "3. **Scalability:** Oversaturating with threads can lead to resource contention and reduced performance.\r\n",
    "\r\n",
    "4. **Resource Consumption:** Threads consume memory and resources, impading in your application."
   ]
  },
  {
   "cell_type": "markdown",
   "id": "6b0edfe7-eabe-4c5f-9ad6-2d96b72698ea",
   "metadata": {},
   "source": [
    "### Q6. Explain deadlocks and race conditions."
   ]
  },
  {
   "cell_type": "markdown",
   "id": "1a002e95-8b04-4413-a8a4-0c3c0519d3d9",
   "metadata": {},
   "source": [
    "**Deadlocks :**\n",
    "A deadlock is a situation in multithreaded or multiprocess systems where two or more threads or processes are unable to proceed because each is waiting for the other(s) to release resources. In other words, it's a circular waiting scenario where each thread holds a resource that another thread needs, and none of them can progress. Deadlocks can lead to a system freeze or unresponsiveness.\n",
    "\n",
    "**Race Conditions :**\r\n",
    "A race condition occurs when the behavior of a program depends on the relative timing of events, such as the order of execution of threads or processes. It leads to unpredictable and undesirable results, as the output or behavior of the program becomes dependent on timing that can vary from run to run\n",
    "Race conditions often occur when multiple threads access shared resources (like variables or data structures) without proper synchronization. If one thread modifies a shared resource while another thread is reading or modifying it simultaneously, the results can be inconsistent and incorrect.."
   ]
  },
  {
   "cell_type": "code",
   "execution_count": null,
   "id": "1fb0ebca-8c89-49bc-8ef2-dc5ff9d57e8c",
   "metadata": {},
   "outputs": [],
   "source": []
  }
 ],
 "metadata": {
  "kernelspec": {
   "display_name": "Python 3 (ipykernel)",
   "language": "python",
   "name": "python3"
  },
  "language_info": {
   "codemirror_mode": {
    "name": "ipython",
    "version": 3
   },
   "file_extension": ".py",
   "mimetype": "text/x-python",
   "name": "python",
   "nbconvert_exporter": "python",
   "pygments_lexer": "ipython3",
   "version": "3.11.4"
  }
 },
 "nbformat": 4,
 "nbformat_minor": 5
}
