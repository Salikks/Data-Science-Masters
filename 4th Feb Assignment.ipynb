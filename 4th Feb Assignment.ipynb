{
 "cells": [
  {
   "cell_type": "markdown",
   "id": "7613f3b9-e726-4349-a9b1-f294bde77e62",
   "metadata": {},
   "source": [
    "### Q1. Create a python program to sort the given list of tuples based on integer value using a lambda function."
   ]
  },
  {
   "cell_type": "code",
   "execution_count": 18,
   "id": "1d1fc9d7-91d8-4c95-8526-ade8256f0b42",
   "metadata": {},
   "outputs": [
    {
     "name": "stdout",
     "output_type": "stream",
     "text": [
      "[('Virat Kohli', 24936), ('Jack Kallis', 25534), ('Ricky Ponting', 27483), ('Sachin Tendulkar', 34357)]\n"
     ]
    }
   ],
   "source": [
    "my_list = [('Sachin Tendulkar', 34357), ('Ricky Ponting', 27483), ('Jack Kallis', 25534), ('Virat Kohli', 24936)]\n",
    "\n",
    "my_list.sort(key=lambda x: x[1])\n",
    "\n",
    "print(my_list)"
   ]
  },
  {
   "cell_type": "markdown",
   "id": "e27db3d1-f4b1-4d13-8d28-23d46f2f07fa",
   "metadata": {},
   "source": [
    "### Q2. Write a Python Program to find the squares of all the numbers in the given list of integers using lambda and map functions."
   ]
  },
  {
   "cell_type": "code",
   "execution_count": 17,
   "id": "e2824db9-3676-4978-9cfd-40b3fbe2e065",
   "metadata": {},
   "outputs": [
    {
     "name": "stdout",
     "output_type": "stream",
     "text": [
      "[1, 4, 9, 16, 25, 36, 49, 64, 81, 100]\n"
     ]
    }
   ],
   "source": [
    "nums = [1, 2, 3, 4, 5, 6, 7, 8, 9, 10]\n",
    "\n",
    "# Using lambda and map to find squares of all numbers\n",
    "squared_nums = list(map(lambda x: x**2, nums))\n",
    "\n",
    "print(squared_nums)"
   ]
  },
  {
   "cell_type": "markdown",
   "id": "481d0c1d-8fa7-4bb6-8cae-89c811aa5268",
   "metadata": {},
   "source": [
    "### Q3. Write a python program to convert the given list of integers into a tuple of strings. Use map and lambda functions."
   ]
  },
  {
   "cell_type": "code",
   "execution_count": 2,
   "id": "259aca90-b7bb-4f98-ae49-e2d19cdc3db7",
   "metadata": {},
   "outputs": [
    {
     "name": "stdout",
     "output_type": "stream",
     "text": [
      "('1', '2', '3', '4', '5', '6', '7', '8', '9', '10')\n"
     ]
    }
   ],
   "source": [
    "str1 = [1, 2, 3, 4, 5, 6, 7, 8, 9, 10]\n",
    "\n",
    "# Using map and lambda to convert the integers to strings\n",
    "str_tuple = tuple(map(lambda x: str(x), str1))\n",
    "\n",
    "print(str_tuple)"
   ]
  },
  {
   "cell_type": "markdown",
   "id": "a3747bbd-caaa-497c-82d5-05625b5df4f2",
   "metadata": {},
   "source": [
    "### Q4. Write a python program using reduce function to compute the product of a list containing numbers from 1 to 25."
   ]
  },
  {
   "cell_type": "code",
   "execution_count": 7,
   "id": "c016a466-deaf-4802-8de6-19a0928d045b",
   "metadata": {},
   "outputs": [
    {
     "name": "stdout",
     "output_type": "stream",
     "text": [
      "Product: 15511210043330985984000000\n"
     ]
    }
   ],
   "source": [
    "from functools import reduce\n",
    "\n",
    "# Create a list containing numbers from 1 to 25\n",
    "numbers_list = list(range(1, 26))\n",
    "\n",
    "# Compute the product of the list using reduce and the multiplication operator\n",
    "product = reduce(lambda x, y: x * y, numbers_list)\n",
    "\n",
    "print(\"Product:\", product)\n"
   ]
  },
  {
   "cell_type": "markdown",
   "id": "86666a10-4f8e-4c1c-99ea-cf0dc26d3e73",
   "metadata": {},
   "source": [
    "### Q5. Write a python program to filter the numbers in a given list that are divisible by 2 and 3 using the filter function."
   ]
  },
  {
   "cell_type": "code",
   "execution_count": 17,
   "id": "124f1a77-a436-418e-86b1-9553c6aea722",
   "metadata": {},
   "outputs": [
    {
     "name": "stdout",
     "output_type": "stream",
     "text": [
      "Filtered List: [6, 60, 90, 120]\n"
     ]
    }
   ],
   "source": [
    "my_list = [2, 3, 6, 9, 27, 60, 90, 120, 55, 46]\n",
    "\n",
    "# Define the lambda function for the filtering condition\n",
    "filtered_list = list(filter(lambda x: x % 2 == 0 and x % 3 == 0, my_list))\n",
    "\n",
    "print(\"Filtered List:\", filtered_list)\n"
   ]
  },
  {
   "cell_type": "markdown",
   "id": "37124ece-e448-498c-ab74-7a1473ba9b92",
   "metadata": {},
   "source": [
    "### Q6. Write a python program to find palindromes in the given list of strings using lambda and filter function."
   ]
  },
  {
   "cell_type": "code",
   "execution_count": 22,
   "id": "a34bb824-91c7-4bc3-bb97-853e80391c6e",
   "metadata": {},
   "outputs": [
    {
     "name": "stdout",
     "output_type": "stream",
     "text": [
      "['php', 'aba', 'radar', 'level']\n"
     ]
    }
   ],
   "source": [
    "words = ['python', 'php', 'aba', 'radar', 'level']\n",
    "\n",
    "# Use the filter function to find palindromes in the list\n",
    "palindromes = list(filter(lambda x : x[::-1] == x, words))\n",
    "\n",
    "print(palindromes)"
   ]
  }
 ],
 "metadata": {
  "kernelspec": {
   "display_name": "Python 3 (ipykernel)",
   "language": "python",
   "name": "python3"
  },
  "language_info": {
   "codemirror_mode": {
    "name": "ipython",
    "version": 3
   },
   "file_extension": ".py",
   "mimetype": "text/x-python",
   "name": "python",
   "nbconvert_exporter": "python",
   "pygments_lexer": "ipython3",
   "version": "3.11.4"
  }
 },
 "nbformat": 4,
 "nbformat_minor": 5
}
