{
 "cells": [
  {
   "cell_type": "markdown",
   "id": "1e57e1a9-18d6-4c0b-b6e7-2b4736fc1b6f",
   "metadata": {},
   "source": [
    "### Q1. Explain Class and Object with respect to Object-Oriented Programming. Give a suitable example."
   ]
  },
  {
   "cell_type": "code",
   "execution_count": 1,
   "id": "382dfd99-eb22-4e3c-913a-ee39b0ca3e52",
   "metadata": {},
   "outputs": [
    {
     "name": "stdout",
     "output_type": "stream",
     "text": [
      "Alice\n",
      "30\n",
      "Hello, my name is Alice and I am 30 years old.\n"
     ]
    }
   ],
   "source": [
    "\n",
    "# Class: A class is like a blueprint or a plan that describes how something should be made. It defines what the thing will be and what it can do.\n",
    "\n",
    "# Object: An object is like something made using the blueprint. It is a real thing that exists based on the class. \n",
    "# Each object made from the same class can have different characteristics and can do different things.\n",
    "\n",
    "# Define the class 'Person'\r\n",
    "class Person:\r\n",
    "    def __init__(self, name, age):\r\n",
    "        self.name = name\r\n",
    "        self.age = age\r\n",
    "\r\n",
    "    def say_hello(self):\r\n",
    "        print(f\"Hello, my name is {self.name} and I am {self.age} years old.\")\r\n",
    "\r\n",
    "# Create an object of the 'Person' class\r\n",
    "person1 = Person(\"Alice\", 30)\r\n",
    "\r\n",
    "# Accessing attributes and calling the method of the object\r\n",
    "print(person1.name)  # Output: Alice\r\n",
    "print(person1.age)   # Output: 30\r\n",
    "\r\n",
    "person1.say_hello()  # Output: Hello, my name is Alice and I am 30 years old.\r\n"
   ]
  },
  {
   "cell_type": "markdown",
   "id": "768acd42-c45b-4955-a35d-bd8d57f43197",
   "metadata": {},
   "source": [
    "### Q2. Name the four pillars of OOPs."
   ]
  },
  {
   "cell_type": "markdown",
   "id": "763e51c3-45c5-4e0f-aa2b-b927e7492851",
   "metadata": {},
   "source": [
    "The four pillars of Object-Oriented Programming (OOP) are:\n",
    "\n",
    "Encapsulation: Bundling data and methods that operate on the data within a single unit (class) to hide complexity and protect data.\n",
    "\n",
    "Abstraction: Showing only essential features of an object while hiding unnecessary details to manage complexity.\n",
    "\n",
    "Inheritance: Allowing a class to inherit attributes and methods from another class to promote code reusability.\n",
    "\n",
    "Polymorphism: Allowing objects to take on multiple forms by using the same interface for different data types or objects."
   ]
  },
  {
   "cell_type": "markdown",
   "id": "2f83b91d-1b62-46b4-9d2a-17ba024ac6de",
   "metadata": {},
   "source": [
    "### Q3. Explain why the __init__() function is used. Give a suitable example."
   ]
  },
  {
   "cell_type": "code",
   "execution_count": null,
   "id": "f3371ea5-0481-4132-8482-8d8abf782cdf",
   "metadata": {},
   "outputs": [],
   "source": [
    "# The __init__() function is used to initialize the attributes of an object when it is created. \n",
    "# It automatically gets called when you create a new object from a class.\n",
    "\n",
    "class Rectangle:\n",
    "    def __init__(self, width, height):\n",
    "        self.width = width\n",
    "        self.height = height\n",
    "\n",
    "    def calculate_area(self):\n",
    "        return self.width * self.height\n",
    "\n",
    "# Creating an object of the 'Rectangle' class and initializing it\n",
    "rectangle1 = Rectangle(5, 10)\n",
    "\n",
    "# Accessing attributes and calling a method of the object\n",
    "print(rectangle1.width)    # Output: 5\n",
    "print(rectangle1.height)   # Output: 10\n",
    "print(rectangle1.calculate_area())  # Output: 50 (5 * 10)\n"
   ]
  },
  {
   "cell_type": "markdown",
   "id": "36de5a16-6075-4766-bd01-3a9a2d475bc3",
   "metadata": {},
   "source": [
    "### Q4. Why self is used in OOPs?"
   ]
  },
  {
   "cell_type": "markdown",
   "id": "62118716-0a04-4a22-bb71-b5036187c0e1",
   "metadata": {},
   "source": [
    "\"self\" is used in OOPs to refer to the current object you're working with. It helps access the object's attributes and methods and allows you to differentiate between different objects of the same class."
   ]
  },
  {
   "cell_type": "markdown",
   "id": "2eaa85f1-3fa9-4194-912c-bd4ced3eefbe",
   "metadata": {},
   "source": [
    "### Q5. What is inheritance? Give an example for each type of inheritance."
   ]
  },
  {
   "cell_type": "code",
   "execution_count": 4,
   "id": "e24fc929-af8b-4a42-8315-8b5bf14a586a",
   "metadata": {},
   "outputs": [
    {
     "name": "stdout",
     "output_type": "stream",
     "text": [
      "Animal speaks.\n",
      "Dog barks.\n",
      "Bird sings.\n",
      "Fish swims.\n",
      "Drawing rectangle.\n",
      "Calculating area.\n",
      "Vehicle is driving.\n",
      "Car is honking.\n",
      "Vehicle is driving.\n",
      "Bike is ringing bell.\n"
     ]
    }
   ],
   "source": [
    "# Inheritance is a fundamental concept in OOP where a class can inherit attributes and methods from another class.\n",
    "\n",
    "# Single Inheritance:\n",
    "# In single inheritance, a subclass inherits from a single superclass. It forms a linear hierarchy.\n",
    "\n",
    "class Animal:\n",
    "    def speak(self):\n",
    "        print(\"Animal speaks.\")\n",
    "\n",
    "# Derived class inheriting from 'Animal'\n",
    "class Dog(Animal):\n",
    "    def bark(self):\n",
    "        print(\"Dog barks.\")\n",
    "\n",
    "dog = Dog()\n",
    "dog.speak()  # Output: Animal speaks.\n",
    "dog.bark()   # Output: Dog barks.\n",
    "\n",
    "# Multiple Inheritance:\n",
    "# In multiple inheritance, a subclass inherits from multiple superclasses. \n",
    "# It allows a class to inherit attributes and methods from multiple sources.\n",
    "\n",
    "class Bird:\n",
    "    def speak(self):\n",
    "        print(\"Bird sings.\")\n",
    "\n",
    "class Fish:\n",
    "    def swim(self):\n",
    "        print(\"Fish swims.\")\n",
    "\n",
    "# Derived class inheriting from 'Bird' and 'Fish'\n",
    "class Duck(Bird, Fish):\n",
    "    pass\n",
    "\n",
    "duck = Duck()\n",
    "duck.speak()  # Output: Bird sings.\n",
    "duck.swim()   # Output: Fish swims.\n",
    "\n",
    "# Multilevel Inheritance:\n",
    "# In multilevel inheritance, a subclass inherits from another subclass, forming a chain of classes.\n",
    "\n",
    "class Shape:\n",
    "    def area(self):\n",
    "        print(\"Calculating area.\")\n",
    "\n",
    "# Intermediate class inheriting from 'Shape'\n",
    "class Rectangle(Shape):\n",
    "    def draw(self):\n",
    "        print(\"Drawing rectangle.\")\n",
    "\n",
    "# Derived class inheriting from 'Rectangle'\n",
    "class Square(Rectangle):\n",
    "    pass\n",
    "\n",
    "square = Square()\n",
    "square.draw()  # Output: Drawing rectangle.\n",
    "square.area()  # Output: Calculating area.\n",
    "\n",
    "# Hierarchical Inheritance:\n",
    "# In hierarchical inheritance, multiple subclasses inherit from the same superclass, creating a tree-like structure.\n",
    "\n",
    "class Vehicle:\n",
    "    def drive(self):\n",
    "        print(\"Vehicle is driving.\")\n",
    "\n",
    "# Derived classes inheriting from 'Vehicle'\n",
    "class Car(Vehicle):\n",
    "    def honk(self):\n",
    "        print(\"Car is honking.\")\n",
    "\n",
    "class Bike(Vehicle):\n",
    "    def ring_bell(self):\n",
    "        print(\"Bike is ringing bell.\")\n",
    "\n",
    "car = Car()\n",
    "car.drive()   # Output: Vehicle is driving.\n",
    "car.honk()    # Output: Car is honking.\n",
    "\n",
    "bike = Bike()\n",
    "bike.drive()  # Output: Vehicle is driving.\n",
    "bike.ring_bell()  # Output: Bike is ringing bell.\n"
   ]
  },
  {
   "cell_type": "code",
   "execution_count": null,
   "id": "df4a029b-5cdf-4cbb-8ed2-4aafef27e4ed",
   "metadata": {},
   "outputs": [],
   "source": []
  }
 ],
 "metadata": {
  "kernelspec": {
   "display_name": "Python 3 (ipykernel)",
   "language": "python",
   "name": "python3"
  },
  "language_info": {
   "codemirror_mode": {
    "name": "ipython",
    "version": 3
   },
   "file_extension": ".py",
   "mimetype": "text/x-python",
   "name": "python",
   "nbconvert_exporter": "python",
   "pygments_lexer": "ipython3",
   "version": "3.11.4"
  }
 },
 "nbformat": 4,
 "nbformat_minor": 5
}
