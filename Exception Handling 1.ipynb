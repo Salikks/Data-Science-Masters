{
 "cells": [
  {
   "cell_type": "markdown",
   "id": "193fe0d2-8835-4e1d-af25-f6a4fac5ab04",
   "metadata": {},
   "source": [
    "### Q1. What is an Exception in Python? Write the difference between Exception and syntax errors."
   ]
  },
  {
   "cell_type": "markdown",
   "id": "0de51106-e336-4305-afe3-0585d3c03b68",
   "metadata": {},
   "source": [
    "## Exception in Python:\n",
    "An exception in Python refers to an unexpected event or error that occurs during the execution of a program, disrupting its normal flow. It is a mechanism provided by Python to handle errors and prevent the program from crashing abruptly. When an exceptional situation occurs, Python raises an exception, which is an object containing information about the error.\n",
    "\n",
    "## Difference\n",
    "A syntax error occurs when the structure of a program does not conform to the rules of the programming language. Syntax errors are usually detected by the compiler or interpreter when the program is being compiled or executed, and they prevent the program from running. Syntax errors are usually caused by mistakes in the source code, such as typos, omissions, or incorrect use of syntax.\n",
    "\n",
    "An exception is an abnormal event that occurs during the execution of a program. Exceptions are usually caused by runtime errors, such as dividing by zero, trying to access an element in an array with an out-of-bounds index, or trying to access a file that does not exist. Exceptions are not syntax errors, but they can still prevent the program from running if they are not handled properly."
   ]
  },
  {
   "cell_type": "markdown",
   "id": "8e63151d-45c3-45ff-b0b4-f5f67aff0cb7",
   "metadata": {},
   "source": [
    "### Q2. What happens when an exception is not handled? Explain with an example."
   ]
  },
  {
   "cell_type": "code",
   "execution_count": 2,
   "id": "763f5df0-e79c-4116-92b8-9052ad592450",
   "metadata": {},
   "outputs": [
    {
     "ename": "ZeroDivisionError",
     "evalue": "division by zero",
     "output_type": "error",
     "traceback": [
      "\u001b[1;31m---------------------------------------------------------------------------\u001b[0m",
      "\u001b[1;31mZeroDivisionError\u001b[0m                         Traceback (most recent call last)",
      "Cell \u001b[1;32mIn[2], line 11\u001b[0m\n\u001b[0;32m      8\u001b[0m numerator \u001b[38;5;241m=\u001b[39m \u001b[38;5;241m10\u001b[39m\n\u001b[0;32m      9\u001b[0m denominator \u001b[38;5;241m=\u001b[39m \u001b[38;5;241m0\u001b[39m\n\u001b[1;32m---> 11\u001b[0m result \u001b[38;5;241m=\u001b[39m \u001b[43mdivide_numbers\u001b[49m\u001b[43m(\u001b[49m\u001b[43mnumerator\u001b[49m\u001b[43m,\u001b[49m\u001b[43m \u001b[49m\u001b[43mdenominator\u001b[49m\u001b[43m)\u001b[49m\n\u001b[0;32m     12\u001b[0m \u001b[38;5;28mprint\u001b[39m(\u001b[38;5;124m\"\u001b[39m\u001b[38;5;124mResult:\u001b[39m\u001b[38;5;124m\"\u001b[39m, result)\n\u001b[0;32m     14\u001b[0m \u001b[38;5;66;03m#In this example, the divide_numbers function attempts to divide two numbers, numerator and denominator.\u001b[39;00m\n\u001b[0;32m     15\u001b[0m \u001b[38;5;66;03m# However, the denominator is set to 0, which will lead to a division by zero error.\u001b[39;00m\n\u001b[0;32m     16\u001b[0m \u001b[38;5;66;03m# Since the exception is not handled, the program's output will result in error\u001b[39;00m\n",
      "Cell \u001b[1;32mIn[2], line 6\u001b[0m, in \u001b[0;36mdivide_numbers\u001b[1;34m(a, b)\u001b[0m\n\u001b[0;32m      5\u001b[0m \u001b[38;5;28;01mdef\u001b[39;00m \u001b[38;5;21mdivide_numbers\u001b[39m(a, b):\n\u001b[1;32m----> 6\u001b[0m     \u001b[38;5;28;01mreturn\u001b[39;00m \u001b[43ma\u001b[49m\u001b[43m \u001b[49m\u001b[38;5;241;43m/\u001b[39;49m\u001b[43m \u001b[49m\u001b[43mb\u001b[49m\n",
      "\u001b[1;31mZeroDivisionError\u001b[0m: division by zero"
     ]
    }
   ],
   "source": [
    "# When an exception is not handled in a program, it leads to an uncontrolled error that can result in the program crashing or terminating abruptly.\n",
    "# This can leave the program in an unexpected and inconsistent state, making it difficult to determine the cause of the error.\n",
    "# Potentially causing data loss or other undesirable outcomes.\n",
    "\n",
    "def divide_numbers(a, b):\n",
    "    return a / b\n",
    "\n",
    "numerator = 10\n",
    "denominator = 0\n",
    "\n",
    "result = divide_numbers(numerator, denominator)\n",
    "print(\"Result:\", result)\n",
    "\n",
    "#In this example, the divide_numbers function attempts to divide two numbers, numerator and denominator.\n",
    "# However, the denominator is set to 0, which will lead to a division by zero error.\n",
    "# Since the exception is not handled, the program's output will result in ZeroDivisionError."
   ]
  },
  {
   "cell_type": "markdown",
   "id": "4c25517c-baf0-4e73-a5ae-3814fc2e5eb7",
   "metadata": {},
   "source": [
    "### Q3. Which Python statements are used to catch and handle exceptions? Explain with an example."
   ]
  },
  {
   "cell_type": "code",
   "execution_count": 3,
   "id": "374efb84-9f38-4e31-b74a-fb1735a1ab67",
   "metadata": {},
   "outputs": [
    {
     "name": "stdout",
     "output_type": "stream",
     "text": [
      "Result: Division by zero is not allowed\n"
     ]
    }
   ],
   "source": [
    "# In Python, we can catch and handle exceptions using the try and except statements.\n",
    "\n",
    "def divide_numbers(a, b):\n",
    "    try:\n",
    "        result = a / b\n",
    "    except ZeroDivisionError:\n",
    "        result = \"Division by zero is not allowed\"\n",
    "    return result\n",
    "\n",
    "numerator = 10\n",
    "denominator = 0\n",
    "\n",
    "result = divide_numbers(numerator, denominator)\n",
    "print(\"Result:\", result)\n"
   ]
  },
  {
   "cell_type": "markdown",
   "id": "3794fec1-8f95-458c-834c-f7ba01a1a679",
   "metadata": {},
   "source": [
    "### Q4. Explain with an example."
   ]
  },
  {
   "cell_type": "code",
   "execution_count": 15,
   "id": "35a859bf-6f16-4cd9-9c4f-b53f6cc1cb78",
   "metadata": {},
   "outputs": [
    {
     "name": "stdin",
     "output_type": "stream",
     "text": [
      "Enter a number:  23\n"
     ]
    },
    {
     "name": "stdout",
     "output_type": "stream",
     "text": [
      "You entered: 23\n"
     ]
    },
    {
     "name": "stdin",
     "output_type": "stream",
     "text": [
      "Enter a number:  5\n"
     ]
    },
    {
     "name": "stdout",
     "output_type": "stream",
     "text": [
      "Result: 2.0\n",
      "This will always be executed, regardless of exceptions.\n",
      "Caught exception: Division by zero is not allowed\n"
     ]
    }
   ],
   "source": [
    "# a. Try, Except, and Else:\n",
    "# The else block in a try-except structure is executed when no exception occurs within the try block.\n",
    "\n",
    "try:\n",
    "    num = int(input(\"Enter a number: \"))\n",
    "except ValueError:\n",
    "    print(\"Invalid input. Please enter a valid number.\")\n",
    "else:\n",
    "    print(\"You entered:\", num)\n",
    "\n",
    "# b. Finally\n",
    "# The finally block is used to define code that should be executed regardless of whether an exception occurred in the try block or not.\n",
    "# It's commonly used for cleanup tasks like closing files or releasing resources.\n",
    "\n",
    "try:\n",
    "    num = int(input(\"Enter a number: \"))\n",
    "    result = 10 / num\n",
    "    print(\"Result:\", result)\n",
    "except ValueError:\n",
    "    print(\"Invalid input. Please enter a valid number.\")\n",
    "except ZeroDivisionError:\n",
    "    print(\"Cannot divide by zero.\")\n",
    "finally:\n",
    "    print(\"This will always be executed, regardless of exceptions.\")\n",
    "\n",
    "# c. raise\n",
    "# The raise statement is used to manually raise exceptions in your code.\n",
    "# This can be useful when you want to create custom exceptions to handle specific situations.\n",
    "\n",
    "def divide_numbers(a, b):\n",
    "    if b == 0:\n",
    "        raise ValueError(\"Division by zero is not allowed\")\n",
    "    return a / b\n",
    "\n",
    "try:\n",
    "    result = divide_numbers(10, 0)\n",
    "except ValueError as ve:\n",
    "    print(\"Caught exception:\", ve)"
   ]
  },
  {
   "cell_type": "markdown",
   "id": "ef0a3ff4-8872-4432-a4f7-31fffc95ba0c",
   "metadata": {},
   "source": [
    "### Q5. What are Custom Exceptions in python? Why do we need Custom Exceptions? Explain with an example"
   ]
  },
  {
   "cell_type": "code",
   "execution_count": 28,
   "id": "c383a5a4-5740-4bd4-bbe0-7250ff2d01c6",
   "metadata": {},
   "outputs": [
    {
     "name": "stdout",
     "output_type": "stream",
     "text": [
      "Error: Cannot divide by zero\n"
     ]
    }
   ],
   "source": [
    "# Custom exceptions, also known as user-defined exceptions, are exceptions that you create in your Python code to handle specific error.\n",
    "# Scenarios that are not covered by the built-in exception classes.\n",
    "\n",
    "def divide(x, y):\n",
    "    if y == 0:\n",
    "        raise Exception(\"Cannot divide by zero\")\n",
    "    return x / y\n",
    "\n",
    "try:\n",
    "    result = divide(10, 0)\n",
    "except Exception as e:\n",
    "    print(f\"Error: {e}\")\n",
    "else:\n",
    "    print(\"Result:\", result)\n",
    "\n",
    "    "
   ]
  },
  {
   "cell_type": "markdown",
   "id": "3c7b0eba-75a8-459d-8ac4-fea6d73939f4",
   "metadata": {},
   "source": [
    "### Q6. Create a custom exception class. Use this class to handle an exception."
   ]
  },
  {
   "cell_type": "code",
   "execution_count": null,
   "id": "902d3ba1-4a88-4f9b-ac82-5db8b69cc46c",
   "metadata": {},
   "outputs": [],
   "source": [
    "class InsufficientFundsError(Exception):\n",
    "    def __init__(self, balance, amount):\n",
    "        self.balance = balance\n",
    "        self.amount = amount\n",
    "        self.message = f\"Insufficient funds: Balance {balance}, Withdrawal amount {amount}\"\n",
    "\n",
    "def withdraw(balance, amount):\n",
    "    if amount > balance:\n",
    "        raise InsufficientFundsError(balance, amount)\n",
    "    return balance - amount\n",
    "\n",
    "try:\n",
    "    account_balance = 500\n",
    "    withdrawal_amount = 700\n",
    "    remaining_balance = withdraw(account_balance, withdrawal_amount)\n",
    "except InsufficientFundsError as e:\n",
    "    print(\"Error:\", e.message)\n",
    "else:\n",
    "    print(\"Withdrawal successful. Remaining balance:\", remaining_balance)\n"
   ]
  }
 ],
 "metadata": {
  "kernelspec": {
   "display_name": "Python 3 (ipykernel)",
   "language": "python",
   "name": "python3"
  },
  "language_info": {
   "codemirror_mode": {
    "name": "ipython",
    "version": 3
   },
   "file_extension": ".py",
   "mimetype": "text/x-python",
   "name": "python",
   "nbconvert_exporter": "python",
   "pygments_lexer": "ipython3",
   "version": "3.11.4"
  }
 },
 "nbformat": 4,
 "nbformat_minor": 5
}
