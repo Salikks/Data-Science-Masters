{
 "cells": [
  {
   "cell_type": "markdown",
   "id": "d4398dd1-e21f-48fc-868d-e298f98825c7",
   "metadata": {},
   "source": [
    "### Q1. Create a vehicle class with an init method having instance variables as name_of_vehicle, max_speed and average_of_vehicle."
   ]
  },
  {
   "cell_type": "code",
   "execution_count": 11,
   "id": "112b990f-0d6b-41a9-9647-eada87a7cd55",
   "metadata": {},
   "outputs": [
    {
     "name": "stdout",
     "output_type": "stream",
     "text": [
      "Name: Truck, Max Speed: 300, Average of Vehicle: 50\n"
     ]
    }
   ],
   "source": [
    "class Vehicle:\n",
    "    def __init__(self, name_of_vehicle, max_speed, avg_of_vehicle):\n",
    "        self.name_of_vehicle = name_of_vehicle\n",
    "        self.max_speed = max_speed\n",
    "        self.average_of_vehicle = avg_of_vehicle\n",
    "\n",
    "truck = Vehicle('Truck', 300, 50)\n",
    "print(f'Name: {truck.name_of_vehicle}, Max Speed: {truck.max_speed}, Average of Vehicle: {truck.average_of_vehicle}')"
   ]
  },
  {
   "cell_type": "markdown",
   "id": "cfd1ced0-6ac2-49a8-b29a-6da40d82b9d1",
   "metadata": {},
   "source": [
    "### Q2. Create a child class car from the vehicle class created in Que 1, which will inherit the vehicle class. Create a method named seating_capacity which takes capacity as an argument and returns the name of the vehicle and its seating capacity."
   ]
  },
  {
   "cell_type": "code",
   "execution_count": 17,
   "id": "693cf1af-1385-46dc-b0a2-656e7a6c1828",
   "metadata": {},
   "outputs": [
    {
     "data": {
      "text/plain": [
       "'Name: Honda, Capacity: 20'"
      ]
     },
     "execution_count": 17,
     "metadata": {},
     "output_type": "execute_result"
    }
   ],
   "source": [
    "class Car(Vehicle):\n",
    "    def seating_capacity(self, capacity):\n",
    "        self.capacity = capacity\n",
    "        return f'Name: {self.name_of_vehicle}, Capacity: {self.capacity}'\n",
    "\n",
    "car = Car(\"Honda\", 200, 20)\n",
    "car.seating_capacity(20)"
   ]
  },
  {
   "cell_type": "markdown",
   "id": "7bfa4b50-5939-4a2a-98f7-7f32abcb64f1",
   "metadata": {},
   "source": [
    "### Q3. What is multiple inheritance? Write a python code to demonstrate multiple inheritance."
   ]
  },
  {
   "cell_type": "code",
   "execution_count": 18,
   "id": "197337df-f7d2-430c-9aae-288020e21ac2",
   "metadata": {},
   "outputs": [
    {
     "name": "stdout",
     "output_type": "stream",
     "text": [
      "Engine started\n",
      "Electric motor charged\n",
      "Model: Hybrid123\n"
     ]
    }
   ],
   "source": [
    "# Multiple inheritance is a feature in OOP languages where a class can inherit attributes and methods from more than one parent class.\n",
    "# This means that a child class can inherit characteristics from multiple parent classes.\n",
    "\n",
    "class Engine:\n",
    "    def start(self):\n",
    "        print(\"Engine started\")\n",
    "\n",
    "class ElectricMotor:\n",
    "    def charge(self):\n",
    "        print(\"Electric motor charged\")\n",
    "\n",
    "class HybridCar(Engine, ElectricMotor):\n",
    "    def __init__(self, model):\n",
    "        self.model = model\n",
    "\n",
    "    def show_model(self):\n",
    "        print(f\"Model: {self.model}\")\n",
    "\n",
    "# Create an instance of HybridCar\n",
    "hybrid_car = HybridCar(\"Hybrid123\")\n",
    "\n",
    "# Access methods from both parent classes\n",
    "hybrid_car.start()\n",
    "hybrid_car.charge()\n",
    "hybrid_car.show_model()\n"
   ]
  },
  {
   "cell_type": "markdown",
   "id": "2b92dac7-651c-4840-bca4-de45b684c4c0",
   "metadata": {},
   "source": [
    "### Q4. What are getter and setter in python? Create a class and create a getter and a setter method in this class."
   ]
  },
  {
   "cell_type": "code",
   "execution_count": 21,
   "id": "1bbd6387-ee47-4d6e-914d-53e889a5db20",
   "metadata": {},
   "outputs": [
    {
     "name": "stdout",
     "output_type": "stream",
     "text": [
      "Initial name: Honey\n",
      "Updated name: Honeee\n"
     ]
    }
   ],
   "source": [
    "# In Python, getters and setters are methods used to control the access and modification of private instance variables in a class.\n",
    "# They provide way to encapsulate the interaction with the class's attributes, allowing you to apply logic or validation when getting/setting a value.\n",
    "\n",
    "class Student:\n",
    "    def __init__(self, name):\n",
    "        self.__name = name  # Private instance variable\n",
    "        \n",
    "    # Getter method for name\n",
    "    def get_name(self):\n",
    "        return self.__name\n",
    "\n",
    "    # Setter method for name\n",
    "    def set_name(self, name):\n",
    "        if len(name) > 1:\n",
    "            self.__name = name\n",
    "        else:\n",
    "            print(\"Name must be at least 2 characters long\")\n",
    "\n",
    "# Create an instance of Student\n",
    "student = Student(\"Honey\")\n",
    "\n",
    "# Use getter and setter methods\n",
    "print(\"Initial name:\", student.get_name())\n",
    "student.set_name(\"Honeee\")\n",
    "print(\"Updated name:\", student.get_name())"
   ]
  },
  {
   "cell_type": "markdown",
   "id": "623aa965-e3d6-4a21-8976-9659ab7dd812",
   "metadata": {},
   "source": [
    "### Q5.What is method overriding in python? Write a python code to demonstrate method overriding."
   ]
  },
  {
   "cell_type": "code",
   "execution_count": 23,
   "id": "b622cae6-6d21-4df5-95f1-91f65d783d9b",
   "metadata": {},
   "outputs": [
    {
     "name": "stdout",
     "output_type": "stream",
     "text": [
      "Dog barks\n",
      "Cat meows\n"
     ]
    }
   ],
   "source": [
    "# Method overriding is a concept in OOP where a subclass provides a specific implementation for a method that is already defined in its superclass.\n",
    "# This allows the subclass to customize or extend the behavior of the inherited method without changing its name.\n",
    "\n",
    "class Animal:\n",
    "    def speak(self):\n",
    "        print(\"Animal speaks\")\n",
    "\n",
    "class Dog(Animal):\n",
    "    def speak(self):\n",
    "        print(\"Dog barks\")\n",
    "\n",
    "class Cat(Animal):\n",
    "    def speak(self):\n",
    "        print(\"Cat meows\")\n",
    "\n",
    "# Creating instances of subclasses\n",
    "dog = Dog()\n",
    "cat = Cat()\n",
    "\n",
    "# Calling the overridden methods\n",
    "dog.speak()\n",
    "cat.speak()\n"
   ]
  },
  {
   "cell_type": "code",
   "execution_count": null,
   "id": "e24a0d5f-705a-4880-b072-09b5277acb22",
   "metadata": {},
   "outputs": [],
   "source": []
  }
 ],
 "metadata": {
  "kernelspec": {
   "display_name": "Python 3 (ipykernel)",
   "language": "python",
   "name": "python3"
  },
  "language_info": {
   "codemirror_mode": {
    "name": "ipython",
    "version": 3
   },
   "file_extension": ".py",
   "mimetype": "text/x-python",
   "name": "python",
   "nbconvert_exporter": "python",
   "pygments_lexer": "ipython3",
   "version": "3.11.4"
  }
 },
 "nbformat": 4,
 "nbformat_minor": 5
}
