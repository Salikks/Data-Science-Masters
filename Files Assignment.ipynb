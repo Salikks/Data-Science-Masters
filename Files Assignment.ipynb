{
 "cells": [
  {
   "cell_type": "markdown",
   "id": "13cfbc3b-80de-429e-afbb-068904def49b",
   "metadata": {},
   "source": [
    "### Q1. Which function is used to open a file? What are the different modes of opening a file? Explain each mode of file opening."
   ]
  },
  {
   "cell_type": "code",
   "execution_count": 1,
   "id": "553d6239-a43d-4cf5-83af-0bfb1d33d372",
   "metadata": {},
   "outputs": [],
   "source": [
    "# In Python, the open() function is used to open a file.\n",
    "\n",
    "# 'r' (Read): This is the default mode. It opens the file for reading.\n",
    "\n",
    "# 'w' (Write): Opens the file for writing. If the file already exists, its contents will be truncated (emptied).\n",
    "\n",
    "# 'a' (Append): Opens the file for writing, but unlike 'w', it does not truncate the file if it already exists.\n",
    "# Instead, it positions the file pointer at the end of the file so you can start writing data from there.\n",
    "\n",
    "# 'x' (Exclusive creation): Opens the file for writing, but only if the file does not already exist.\n",
    "\n",
    "# 'b' (Binary mode): This can be added to any of the above modes to open the file in binary mode.\n",
    "\n",
    "# 't' (Text mode): This can also be added to any of the above modes to open the file in text mode, which is the default."
   ]
  },
  {
   "cell_type": "markdown",
   "id": "2f1955e5-ecc7-4ef3-b1cd-4e268b0a583d",
   "metadata": {},
   "source": [
    "### Q2. Why close() function is used? Why is it important to close a file?"
   ]
  },
  {
   "cell_type": "markdown",
   "id": "bc978403-9f86-4e13-b061-8b9310d0160f",
   "metadata": {},
   "source": [
    "The close() function in Python is used to close a file that has been previously opened using the open() function. \n",
    "Because files are limited resources managed by the operating system, making sure files are closed after use will protect against hard-to-debug issues like running out of file handles or experiencing corrupted data."
   ]
  },
  {
   "cell_type": "markdown",
   "id": "d664105b-4959-46f8-861e-5593886b1d9d",
   "metadata": {},
   "source": [
    "### Q3. Write a python program to create a text file. Write ‘I want to become a Data Scientist’ in that file. Then close the file. Open this file and read the content of the file."
   ]
  },
  {
   "cell_type": "code",
   "execution_count": 5,
   "id": "31785c0b-9eda-4380-8784-0edfdf4e507e",
   "metadata": {},
   "outputs": [
    {
     "name": "stdout",
     "output_type": "stream",
     "text": [
      "I want to become a Data Scientist\n"
     ]
    }
   ],
   "source": [
    "with open('test.txt', 'w') as f:\n",
    "    f.write('I want to become a Data Scientist')\n",
    "    f.close()\n",
    "\n",
    "with open('test.txt', 'r') as f:\n",
    "    content = f.read()\n",
    "    print(content)"
   ]
  },
  {
   "cell_type": "markdown",
   "id": "db68ee30-d394-469c-abbb-ce399c39ab81",
   "metadata": {},
   "source": [
    "### Q4. Explain the following with python code: read(), readline() and readlines()."
   ]
  },
  {
   "cell_type": "code",
   "execution_count": 13,
   "id": "518ac623-a841-4006-83dd-d9084f47f814",
   "metadata": {},
   "outputs": [
    {
     "name": "stdout",
     "output_type": "stream",
     "text": [
      "I want to become a Data Scientist\n",
      "I want to become a Data Analyst\n",
      "I want to become a Data Scientist\n",
      "\n",
      "I want to become a Data Analyst\n",
      "['I want to become a Data Scientist\\n', 'I want to become a Data Analyst']\n",
      "I want to become a Data Scientist\n",
      "I want to become a Data Analyst\n"
     ]
    }
   ],
   "source": [
    "with open('sample.txt', 'w') as f:\n",
    "    f.write('I want to become a Data Scientist\\n')\n",
    "    f.write('I want to become a Data Analyst')\n",
    "\n",
    "# read(): This method reads the entire content of the file as a single string.\n",
    "with open('sample.txt', 'r') as f:\n",
    "    content = f.read()\n",
    "    print(content)\n",
    "\n",
    "# readline(): This method reads a single line from the file each time it's called. It moves the file cursor to the next line.\n",
    "with open('sample.txt', 'r') as f:\n",
    "    line1 = f.readline()\n",
    "    line2 = f.readline()\n",
    "    print(line1)\n",
    "    print(line2)\n",
    "\n",
    "# readlines(): This method reads all the lines of the file and returns them as a list of strings, where each string represents a line.\n",
    "with open('sample.txt', 'r') as f:\n",
    "    lines = f.readlines()\n",
    "    print(lines)\n",
    "    for line in lines:\n",
    "        print(line.strip())  # Using strip() to remove the newline character\n",
    "\n",
    "\n"
   ]
  },
  {
   "cell_type": "markdown",
   "id": "555bd812-652c-4126-8e9d-76f046ad4a85",
   "metadata": {},
   "source": [
    "### Q5. Explain why with statement is used with open(). What is the advantage of using with statement and open() together?"
   ]
  },
  {
   "cell_type": "code",
   "execution_count": 14,
   "id": "fa13fbc7-f910-4fc9-9a6f-a0b44ef693ba",
   "metadata": {},
   "outputs": [],
   "source": [
    "# The with statement is used with the open() function in Python to manage files more effectively.\n",
    "# It ensures that files are automatically closed when you're done with them. This combination offers a number of advantages:\n",
    "\n",
    "# Automatic Closure: When you open a file using open() within a with statement, Python takes care of closing the file for you.\n",
    "# This ensures that the file is properly closed after you're done with it, preventing resource leaks and potential issues.\n",
    "\n",
    "# Simplicity: Using the with statement makes your code cleaner and more concise.\n",
    "# It clearly defines the scope in which the file is being used, making your code easier to understand.\n",
    "\n",
    "# Resource Management: When you open a file, the operating system allocates resources to handle the file connection.\n",
    "# The with statement ensures that these resources are properly managed and released, even if your code encounters errors."
   ]
  },
  {
   "cell_type": "markdown",
   "id": "c68d18d3-a5c0-42d9-a06a-f6c1f43842e4",
   "metadata": {},
   "source": [
    "### Q6. Explain the write() and writelines() functions. Give a suitable example."
   ]
  },
  {
   "cell_type": "code",
   "execution_count": 20,
   "id": "956cf2c1-29f4-4c91-bfc5-4c8cd6c9d701",
   "metadata": {},
   "outputs": [],
   "source": [
    "# write(): This function is used to write a string of characters to the file.\n",
    "# It writes the string exactly as provided, without automatically adding newline characters.\n",
    "\n",
    "with open('output.txt', 'w') as f:\n",
    "    f.write('This is the first line.\\n')\n",
    "    f.write('This is second line to be written.')\n",
    "\n",
    "# writelines(): This function is used to write a list of strings to the file. \n",
    "# It writes each string in the list as a separate line.\n",
    "\n",
    "# Writing lines to a file using writelines()\n",
    "lines = ['Line 1\\n', 'Line 2\\n', 'Line 3\\n']\n",
    "with open('lines.txt', 'w') as f:\n",
    "    f.writelines(lines)\n",
    "\n"
   ]
  },
  {
   "cell_type": "code",
   "execution_count": null,
   "id": "4b61dca8-9958-4fa4-920f-ecd8c81055eb",
   "metadata": {},
   "outputs": [],
   "source": []
  }
 ],
 "metadata": {
  "kernelspec": {
   "display_name": "Python 3 (ipykernel)",
   "language": "python",
   "name": "python3"
  },
  "language_info": {
   "codemirror_mode": {
    "name": "ipython",
    "version": 3
   },
   "file_extension": ".py",
   "mimetype": "text/x-python",
   "name": "python",
   "nbconvert_exporter": "python",
   "pygments_lexer": "ipython3",
   "version": "3.11.4"
  }
 },
 "nbformat": 4,
 "nbformat_minor": 5
}
