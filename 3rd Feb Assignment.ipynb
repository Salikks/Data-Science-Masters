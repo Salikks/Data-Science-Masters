{
 "cells": [
  {
   "cell_type": "markdown",
   "id": "537556c0-715f-4fd6-a9a7-240208066c12",
   "metadata": {},
   "source": [
    "### Q1. Which keyword is used to create a function? Create a function to return a list of odd numbers in the range of 1 to 25."
   ]
  },
  {
   "cell_type": "code",
   "execution_count": 20,
   "id": "62161ba3-9e92-475c-ae4d-226bc901b759",
   "metadata": {},
   "outputs": [],
   "source": [
    "# The keyword used to create a function in Python is def.\n",
    "\n",
    "def get_odd_numbers():\n",
    "    odd_numbers = []\n",
    "    for i in range(1,26):\n",
    "        if i % 2 != 0:\n",
    "            odd_numbers.append(i)\n",
    "    return odd_numbers"
   ]
  },
  {
   "cell_type": "code",
   "execution_count": 21,
   "id": "5dedf7c5-84fe-418f-8ced-45186281f7d9",
   "metadata": {},
   "outputs": [
    {
     "data": {
      "text/plain": [
       "[1, 3, 5, 7, 9, 11, 13, 15, 17, 19, 21, 23, 25]"
      ]
     },
     "execution_count": 21,
     "metadata": {},
     "output_type": "execute_result"
    }
   ],
   "source": [
    "get_odd_numbers()"
   ]
  },
  {
   "cell_type": "markdown",
   "id": "fcc1e5aa-fd32-40ae-be28-5e76bb2adcc2",
   "metadata": {},
   "source": [
    "### Q2. Why *args and **kwargs is used in some functions? Create a function each for *args and **kwargs to demonstrate their use."
   ]
  },
  {
   "cell_type": "code",
   "execution_count": 22,
   "id": "03cf4004-0b02-43f4-a532-a7c71cb097b3",
   "metadata": {},
   "outputs": [
    {
     "name": "stdout",
     "output_type": "stream",
     "text": [
      "6\n",
      "150\n",
      "name: Alice\n",
      "age: 30\n",
      "city: New York\n"
     ]
    }
   ],
   "source": [
    "# *args and **kwargs are special syntax used in Python function definitions to allow the function to accept a variable number of arguments.\n",
    "# They are often used when the number of arguments that a function can take is not known beforehand or can vary.\n",
    "\n",
    "# *args\n",
    "def sum_numbers(*args):\n",
    "    result = 0\n",
    "    for num in args:\n",
    "        result += num\n",
    "    return result\n",
    "\n",
    "# Call the function with different numbers of arguments\n",
    "print(sum_numbers(1, 2, 3))\n",
    "print(sum_numbers(10, 20, 30, 40, 50))\n",
    "\n",
    "# **kwargs\n",
    "def print_kwargs(**kwargs):\n",
    "    for key, value in kwargs.items():\n",
    "        print(f\"{key}: {value}\")\n",
    "\n",
    "# Call the function with different named arguments\n",
    "print_kwargs(name=\"Alice\", age=30, city=\"New York\")\n"
   ]
  },
  {
   "cell_type": "markdown",
   "id": "eb1f9e53-1b2b-47ea-9fc9-d453c2130ced",
   "metadata": {},
   "source": [
    "### Q3. What is an iterator in python? Name the method used to initialise the iterator object and the method used for iteration. Use these methods to print the first five elements of the given list [2, 4, 6, 8, 10, 12, 14, 16, 18, 20]."
   ]
  },
  {
   "cell_type": "code",
   "execution_count": 25,
   "id": "0806a005-80a2-4973-9045-639fe12cfcff",
   "metadata": {},
   "outputs": [
    {
     "name": "stdout",
     "output_type": "stream",
     "text": [
      "2\n",
      "4\n",
      "6\n",
      "8\n",
      "10\n"
     ]
    }
   ],
   "source": [
    "# In Python, an iterator is an object that allows you to iterate over a sequence of elements, such as a list, tuple, or string, one at a time.\n",
    "# It provides two essential methods for iteration: iter() and next().\n",
    "\n",
    "# iter(): The iter() method is used to initialize an iterator object from an iterable.\n",
    "# It returns the iterator object that can be used to loop through the elements of the iterable.\n",
    "\n",
    "# next(): The next() method is used to retrieve the next element from the iterator.\n",
    "# It advances the iterator to the next element and returns that element.\n",
    "# When there are no more elements to be retrieved, it raises the StopIteration exception.\n",
    "\n",
    "# Given list\n",
    "my_list = [2, 4, 6, 8, 10, 12, 14, 16, 18, 20]\n",
    "\n",
    "# Initialize the iterator object\n",
    "my_iterator = iter(my_list)\n",
    "\n",
    "# Print the first five elements using the next() method\n",
    "for _ in range(5):\n",
    "    element = next(my_iterator)\n",
    "    print(element)\n"
   ]
  },
  {
   "cell_type": "markdown",
   "id": "664d0c0b-d612-4459-ae0b-4e4a9f397876",
   "metadata": {},
   "source": [
    "### Q4. What is a generator function in python? Why yield keyword is used? Give an example of a generator function."
   ]
  },
  {
   "cell_type": "code",
   "execution_count": 29,
   "id": "4e868386-4d2b-4e50-a4c2-04301b849ffe",
   "metadata": {},
   "outputs": [
    {
     "name": "stdout",
     "output_type": "stream",
     "text": [
      "0\n",
      "2\n",
      "4\n",
      "6\n",
      "8\n",
      "10\n"
     ]
    }
   ],
   "source": [
    "# In Python, a generator function is a special type of function that returns an iterator object, known as a generator.\n",
    "# Generator functions use the yield keyword to produce a series of values one at a time,\n",
    "# allowing the function to be paused and resumed during the iteration process.\n",
    "\n",
    "def even_num_gen(n):\n",
    "    num = 0\n",
    "    while num <= n:\n",
    "        yield num\n",
    "        num +=2\n",
    "\n",
    "# Create a generator object by calling the generator function\n",
    "gen = even_num_gen(10)\n",
    "\n",
    "# Iterate through the generator to print the even numbers\n",
    "for i in gen:\n",
    "    print(i)\n",
    "        "
   ]
  },
  {
   "cell_type": "markdown",
   "id": "70b29748-a8f3-47c2-804f-88a5c7a7c692",
   "metadata": {},
   "source": [
    "### Q5. Create a generator function for prime numbers less than 1000. Use the next() method to print the first 20 prime numbers."
   ]
  },
  {
   "cell_type": "code",
   "execution_count": 32,
   "id": "7a9f0468-8bee-4b6f-911b-c60dcb13aa54",
   "metadata": {},
   "outputs": [
    {
     "name": "stdout",
     "output_type": "stream",
     "text": [
      "2\n",
      "3\n",
      "5\n",
      "7\n",
      "11\n",
      "13\n",
      "17\n",
      "19\n",
      "23\n",
      "29\n",
      "31\n",
      "37\n",
      "41\n",
      "43\n",
      "47\n",
      "53\n",
      "59\n",
      "61\n",
      "67\n",
      "71\n"
     ]
    }
   ],
   "source": [
    "\n",
    "def prime_num_gen():\n",
    "    num = 2\n",
    "    while True:\n",
    "        is_prime = True\n",
    "        for i in range(2, num):\n",
    "            if num % i == 0:\n",
    "                is_prime = False\n",
    "                break\n",
    "        if is_prime:\n",
    "            yield num\n",
    "        num += 1\n",
    "\n",
    "# Use the generator to print the first 20 prime numbers\n",
    "prime_gen = prime_num_gen()\n",
    "for _ in range(20):\n",
    "    print(next(prime_gen))\n",
    "\n",
    "            "
   ]
  },
  {
   "cell_type": "code",
   "execution_count": null,
   "id": "8f563c09-54ac-4d86-a44a-ffed3bb5cfc3",
   "metadata": {},
   "outputs": [],
   "source": []
  }
 ],
 "metadata": {
  "kernelspec": {
   "display_name": "Python 3 (ipykernel)",
   "language": "python",
   "name": "python3"
  },
  "language_info": {
   "codemirror_mode": {
    "name": "ipython",
    "version": 3
   },
   "file_extension": ".py",
   "mimetype": "text/x-python",
   "name": "python",
   "nbconvert_exporter": "python",
   "pygments_lexer": "ipython3",
   "version": "3.11.4"
  }
 },
 "nbformat": 4,
 "nbformat_minor": 5
}
