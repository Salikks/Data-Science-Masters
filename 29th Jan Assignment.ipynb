{
 "cells": [
  {
   "cell_type": "markdown",
   "id": "7325a189-5eba-47c6-9c0e-fedccf0adc11",
   "metadata": {},
   "source": [
    "# 29th Jan Assignment"
   ]
  },
  {
   "cell_type": "markdown",
   "id": "d802c89b-151d-4f25-9f10-58fa7c0ece9f",
   "metadata": {},
   "source": [
    "## Who developed Python Programming Language?"
   ]
  },
  {
   "cell_type": "markdown",
   "id": "fb0a18d4-ddae-4482-8c11-0a6dd7f0f485",
   "metadata": {},
   "source": [
    "Python was developed by Guido van Rossum, a Dutch programmer, in the late 1980s and was first released in 1991. Guido van Rossum is often referred to as the \"Benevolent Dictator for Life\" (BDFL) of the Python community, as he was the principal author and maintained a significant role in guiding the language's development until he stepped down from his leadership position in 2018. Python has since become one of the most popular and widely used programming languages in the world."
   ]
  },
  {
   "cell_type": "markdown",
   "id": "810ff5e9-c3b0-49c6-b54a-37eef43cc6f7",
   "metadata": {},
   "source": [
    "## Which type of Programming does Python support?\n",
    "Python is a high-level, general-purpose programming language that supports multiple programming paradigms. The main programming paradigms that Python supports are:\r\n",
    "\r\n",
    "1. Imperative programming: Python allows you to write code in a sequence of statements that change a program's state. It is the most common style of programming and is based on the concept of executing commands in order.\r\n",
    "\r\n",
    "2. Object-oriented programming (OOP): Python fully supports object-oriented programming, allowing you to create classes, objects, and utilize features such as inheritance, encapsulation, and polymorphism.\r\n",
    "\r\n",
    "3. Functional programming: Python also supports functional programming, which involves using functions as first-class objects and enables you to write code that focuses on computation through the evaluation of functions.\r\n",
    "\r\n",
    "4. Procedural programming: Python supports procedural programming, where you organize your code into procedures or functions, making it easier to manage and understand the program's structure.\r\n",
    "\r\n",
    "5. Aspect-oriented programming: Though not as explicitly designed for aspect-oriented programming as some other languages, Python does support aspects through third-party libraries.\r\n",
    "\r\n",
    "Python's versatility in supporting multiple programming paradigms is one of the reasons it is widely appreciated and used in various fields, including web development, data science, artificial intelligence, automation, and more."
   ]
  },
  {
   "cell_type": "markdown",
   "id": "1bfacb86-3f91-4545-a4cd-f4224404e0bd",
   "metadata": {},
   "source": [
    "## is Python case sensitive when dealing with identifiers?\n",
    "\r\n",
    "Yes, Python is case sensitive when dealing with identifiers. In Python, identifiers are used for naming variables, functions, classes, modules, and other objects. An identifier can be composed of letters (both uppercase and lowercase), digits, and underscores (_). However, it must follow some rules:\r\n",
    "\r\n",
    "The first character of an identifier must be a letter (a-z or A-Z) or an underscore (_).\r\n",
    "The remaining characters can be letters, digits, or underscores.\r\n",
    "Python keywords (reserved words) cannot be used as identifiers."
   ]
  },
  {
   "cell_type": "markdown",
   "id": "6770da58-151b-47b7-b8af-0b59c747822d",
   "metadata": {},
   "source": [
    "## What is correct extension of python file?\r\n",
    "The correct extension for Python files is \".py\".\r\n"
   ]
  },
  {
   "cell_type": "markdown",
   "id": "a7f325a5-319b-4065-b89f-a9c974e7884a",
   "metadata": {},
   "source": [
    "## Is Python code compiled or interpreted?\n",
    "\n",
    "Interpreted."
   ]
  },
  {
   "cell_type": "markdown",
   "id": "b4eae978-8bc1-4abf-b86d-691036b23013",
   "metadata": {},
   "source": [
    "## Name a few blocks of code used to define in Python language\n",
    "\n",
    "while condition:\n",
    "    # Code block executed as long as the condition is True\n",
    "    statement1\n",
    "    statement2\n",
    "\n",
    "for item in my_list:\n",
    "    # Code block executed for each item in the list\n",
    "    statement1\n",
    "    statement2\n",
    "\n",
    "if condition:\n",
    "    # Code block executed if the condition is True\n",
    "    statement1\n",
    "    statement2\n",
    "else:\n",
    "    # Code block executed if the condition is False\n",
    "    statement3\n",
    "    statement4\n",
    "\n",
    "## State a character used to give single-line comments in Python\n",
    "\n",
    "The character used to give single-line comments in Python is the hash symbol #. When you place the hash symbol at the beginning of a line or after code, everything following it on that line is considered a comment and will not be executed by the Python interpreter.\n",
    "\n",
    "## Mention functions which can help us to find the version of Python that we are currently working on.\n",
    "\n",
    "sys.version:\r\n",
    "This attribute in the sys module returns a string containing the version number of the Python interpreter\n",
    "\n",
    "sys.version_info:\r\n",
    "This attribute returns a tuple that contains version information in a more structured form (major, minor, micro, release level, and serial)\n",
    "\n",
    "platform.python_version():\r\n",
    "This function from the platform module returns the version of the installed Python interpreter as a string..."
   ]
  },
  {
   "cell_type": "markdown",
   "id": "56e81aa3-52d9-4e79-a373-352c6f2c2d2a",
   "metadata": {},
   "source": [
    "## Python supports the creation of anonymous functions at runtime, using a construct called __________\n",
    "Python supports the creation of anonymous functions at runtime using a construct called \"lambda\" functions."
   ]
  },
  {
   "cell_type": "markdown",
   "id": "8204ee74-0f10-4183-8106-d8d4c4f92208",
   "metadata": {},
   "source": [
    "## What does pip stands for in Python?\n",
    "\n",
    "\n",
    "In Python, \"pip\" stands for \"Pip Installs Packages.\" It is a package management system used to install, upgrade, and manage software packages written in Python. "
   ]
  },
  {
   "cell_type": "markdown",
   "id": "0061251e-dedc-42fd-96b3-159e743b70cd",
   "metadata": {},
   "source": [
    "## Mention a few built-in functions in Python\n",
    "\n",
    "print(): Used to display output to the console.\n",
    "len(): Returns the length of a string, list, tuple, or other sequence.\n",
    "input(): Reads input from the user through the console.\n",
    "int(): Converts a value to an integer data type.\n",
    "float(): Converts a value to a floating-point data type.\n",
    "str(): Converts a value to a string data type.\n",
    "type(): Returns the data type of an object.\n",
    "range(): Generates a sequence of numbers within a specified range.\n",
    "max(): Returns the maximum value from a sequence (e.g., list, tuple).\n",
    "min(): Returns the minimum value from a sequence.\n",
    "sum(): Calculates the sum of all elements in a sequence of numbers.\n",
    "sorted(): Returns a sorted list from the elements of an iterable.\n"
   ]
  },
  {
   "cell_type": "markdown",
   "id": "e30d8b51-26e5-4534-bec7-132a13ffcde5",
   "metadata": {},
   "source": [
    "## What is the maximum possible length of an identifier in Python?\n",
    "\n",
    "An identifier can have a maximum length of 79 characters in Python. "
   ]
  },
  {
   "cell_type": "markdown",
   "id": "28089ba6-2881-41f7-b7aa-042828fa0563",
   "metadata": {},
   "source": [
    "## What are the benefits of using Python?\n",
    "\n",
    "Readable and Expressive Syntax: Python's simple and clean syntax makes it easy to read and write code, making it more productive and reducing the chances of errors. It emphasizes readability and encourages programmers to write code in a more natural and straightforward way.\n",
    "\n",
    "Large Standard Library: Python comes with a vast collection of standard libraries, providing ready-to-use modules and functions for various tasks like handling files, working with data, networking, web development, and much more. This extensive library reduces the need to write code from scratch and accelerates development.\n",
    "\n",
    "Great for Beginners: Python is often recommended as a first programming language due to its easy-to-understand syntax and gentle learning curve. It helps beginners focus on programming logic and problem-solving rather than getting bogged down in complicated language features.\n",
    "\n",
    "Cross-platform Compatibility: Python is a cross-platform language, meaning code written on one operating system can run on another with little to no modifications. This portability allows developers to work on different platforms without rewriting the codebase.\n",
    "\n",
    "Strong Community and Support: Python has a massive and active community of developers who contribute to its growth and development. This strong community provides ample resources, documentation, tutorials, and modules that can help developers with their projects.\n",
    "\n",
    "Open Source: Python is an open-source language, meaning its source code is freely available. This fosters collaboration and innovation, as developers can modify and share the language to meet their specific needs.\n",
    "\n",
    "Extensibility and Integrations: Python can be easily integrated with other languages like C, C++, and Java, allowing developers to use Python for scripting or rapid prototyping while taking advantage of the performance of other languages for critical parts of the application.\n",
    "\n",
    "Wide Range of Applications: Python is suitable for various applications, including web development (Django, Flask), scientific computing (NumPy, SciPy), data analysis (Pandas), artificial intelligence and machine learning (TensorFlow, PyTorch), automation, scripting, and more.\n",
    "\n",
    "High Demand and Job Opportunities: Due to its versatility and extensive use in different fields, Python developers are in high demand across various industries. Learning Python can open up a wide range of job opportunities.\n",
    "\n",
    "Continuous Development and Updates: Python's community actively maintains and updates the language, regularly releasing new versions with improvements and bug fixes. This ensures that Python remains relevant and up-to-date with the latest trends in technology.\n",
    "\n"
   ]
  },
  {
   "cell_type": "markdown",
   "id": "f36ddd96-bae5-416d-9e54-bcd2480718a9",
   "metadata": {},
   "source": [
    "## How is memory managed in Python?\n",
    "\n",
    "Memory management in Python involves a private heap containing all Python objects and data structures. The management of this private heap is ensured internally by the Python memory manager. The Python memory manager has different components which deal with various dynamic storage management aspects, like sharing, segmentation, preallocation or caching."
   ]
  },
  {
   "cell_type": "markdown",
   "id": "5942c393-a3bc-4a48-ba53-b3634a1baa6d",
   "metadata": {},
   "source": [
    "## How to install Python on Windows and set path variables?\n",
    "\n",
    "Install python from this link https://www.python.org/downloads/\n",
    "After this, install it on your PC. Look for the location where PYTHON has been installed on your PC using tge following command on your command prompt: cmd python.\n",
    "Then go to advanced system settings and add new variable and name it as PYTHON_NAME and paste the copied path.\n",
    "Then look for the path variable, select it's value and select edit\n",
    "Add a semicolon towards the end of the value if it's not present and then type %PYTHON_HOME%\n"
   ]
  },
  {
   "cell_type": "markdown",
   "id": "6076736b-61b5-4f3a-bd66-4b62b67d01c3",
   "metadata": {},
   "source": [
    "## Is indentation required in Python?\n",
    "\n",
    "Yes, indentation is required in Python. Python uses indentation to define the scope of code blocks."
   ]
  },
  {
   "cell_type": "code",
   "execution_count": null,
   "id": "29e98123-75fe-49ea-b0df-69041fb2794b",
   "metadata": {},
   "outputs": [],
   "source": []
  }
 ],
 "metadata": {
  "kernelspec": {
   "display_name": "Python 3 (ipykernel)",
   "language": "python",
   "name": "python3"
  },
  "language_info": {
   "codemirror_mode": {
    "name": "ipython",
    "version": 3
   },
   "file_extension": ".py",
   "mimetype": "text/x-python",
   "name": "python",
   "nbconvert_exporter": "python",
   "pygments_lexer": "ipython3",
   "version": "3.11.4"
  }
 },
 "nbformat": 4,
 "nbformat_minor": 5
}
