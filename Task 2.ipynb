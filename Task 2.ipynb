{
 "cells": [
  {
   "cell_type": "markdown",
   "id": "4453e4cc-969a-4200-b1af-6d1c0b037949",
   "metadata": {},
   "source": [
    "### Q1. You are writing code for a company. The requirement of the company is that you create a python function that will check whether the password entered by the user is correct or not. The function should take the password as input and return the string “Valid Password” if the entered password follows the below-given password guidelines else it should return “Invalid Password”."
   ]
  },
  {
   "cell_type": "code",
   "execution_count": 2,
   "id": "86664a1d-a7f4-47ac-8326-2a7214585d7a",
   "metadata": {},
   "outputs": [
    {
     "name": "stdout",
     "output_type": "stream",
     "text": [
      "Invalid Password\n",
      "Invalid Password\n",
      "Invalid Password\n",
      "Invalid Password\n",
      "Invalid Password\n",
      "Valid Password\n",
      "Invalid Password\n",
      "Invalid Password\n"
     ]
    }
   ],
   "source": [
    "import re\n",
    "\n",
    "def check_password_validity(password):\n",
    "    # Check password length\n",
    "    if len(password) != 10:\n",
    "        return \"Invalid Password\"\n",
    "\n",
    "    # Combine regex pattern for all required characters\n",
    "    pattern = r'^(?=.*[A-Z].*[A-Z])(?=.*[a-z].*[a-z])(?=.*\\d)(?=.*[!@#$%^&*(),.?\":{}|<>].*[!@#$%^&*(),.?\":{}|<>].*[!@#$%^&*(),.?\":{}|<>])'\n",
    "\n",
    "    # Use re.search() to find the entire pattern in the password\n",
    "    if re.search(pattern, password):\n",
    "        return \"Valid Password\"\n",
    "    else:\n",
    "        return \"Invalid Password\"\n",
    "\n",
    "# Test cases\n",
    "print(check_password_validity(\"Abcdef@123\"))\n",
    "print(check_password_validity(\"Abc@12345\"))\n",
    "print(check_password_validity(\"abcdef@123\"))\n",
    "print(check_password_validity(\"ABCDEF@123\"))\n",
    "print(check_password_validity(\"AbcdEfghij\"))\n",
    "print(check_password_validity(\"A!b@Cd*234\"))\n",
    "print(check_password_validity(\"ShortPass\"))\n",
    "print(check_password_validity(\"VeryLongPassword\"))\n"
   ]
  },
  {
   "cell_type": "markdown",
   "id": "e32e5dcb-c371-49bc-b798-a4318696f43b",
   "metadata": {},
   "source": [
    "### Q2. Solve the below-given questions using at least one of the following:\n",
    "### 1. Lambda function\n",
    "### 2. Filter function\n",
    "### 3. Map function\n",
    "### 4. List Comprehension"
   ]
  },
  {
   "cell_type": "code",
   "execution_count": 24,
   "id": "17c562d0-8380-4fb4-a535-d6e1194126ed",
   "metadata": {},
   "outputs": [
    {
     "name": "stdout",
     "output_type": "stream",
     "text": [
      "True\n",
      "False\n",
      "False\n",
      "False\n"
     ]
    }
   ],
   "source": [
    "# Check if the string starts with a particular letter.\n",
    "\n",
    "check_letter = lambda str1, letter : str1.startswith(letter)\n",
    "\n",
    "print(check_letter('Hello', 'H'))\n",
    "print(check_letter('People', 'T'))\n",
    "print(check_letter('Nature', 'n'))\n",
    "print(check_letter('traun', '2'))"
   ]
  },
  {
   "cell_type": "code",
   "execution_count": 27,
   "id": "c946379c-819f-4050-91f2-d54480665db2",
   "metadata": {},
   "outputs": [
    {
     "name": "stdout",
     "output_type": "stream",
     "text": [
      "True\n",
      "False\n",
      "False\n",
      "True\n"
     ]
    }
   ],
   "source": [
    "# Check if the string is numeric.\n",
    "\n",
    "check_numeric = lambda str1: str1.isnumeric()\n",
    "\n",
    "print(check_numeric(\"\\u0030\"))\n",
    "print(check_numeric('True'))\n",
    "print(check_numeric(\"4.3\"))\n",
    "print(check_numeric(\"266\"))"
   ]
  },
  {
   "cell_type": "code",
   "execution_count": 31,
   "id": "41af8ee6-5a96-4c2f-82d6-696a04e632b2",
   "metadata": {},
   "outputs": [
    {
     "name": "stdout",
     "output_type": "stream",
     "text": [
      "[('orange', 80), ('mango', 99), ('grapes', 1000)]\n"
     ]
    }
   ],
   "source": [
    "# Sort a list of tuples having fruit names and their quantity. [(\"mango\",99),(\"orange\",80), (\"grapes\", 1000)]\n",
    "\n",
    "my_list = [(\"mango\",99),(\"orange\",80), (\"grapes\", 1000)]\n",
    "sorted_list = [item for item in sorted( my_list,key = lambda x : x[1])]\n",
    "print(sorted_list)"
   ]
  },
  {
   "cell_type": "code",
   "execution_count": 50,
   "id": "9afd9d48-30bd-44d8-ac75-d40d37c27314",
   "metadata": {
    "editable": true,
    "slideshow": {
     "slide_type": ""
    },
    "tags": []
   },
   "outputs": [
    {
     "name": "stdout",
     "output_type": "stream",
     "text": [
      "[1, 4, 9, 16, 25, 36, 49, 64, 81, 100]\n",
      "[1, 4, 9, 16, 25, 36, 49, 64, 81, 100]\n"
     ]
    }
   ],
   "source": [
    "# Find the squares of numbers from 1 to 10\n",
    "sq_num = list(map(lambda x : x**2, range(1,11)))\n",
    "print(sq_num)\n",
    "\n",
    "sq_num = [x**2 for x in range(1, 11)]\n",
    "print(sq_num)"
   ]
  },
  {
   "cell_type": "code",
   "execution_count": 49,
   "id": "ff1ae7d1-c3fe-4d52-b94a-cad25bead125",
   "metadata": {
    "editable": true,
    "slideshow": {
     "slide_type": ""
    },
    "tags": []
   },
   "outputs": [
    {
     "name": "stdout",
     "output_type": "stream",
     "text": [
      "[1.         1.25992105 1.44224957 1.58740105 1.70997595 1.81712059\n",
      " 1.91293118 2.         2.08008382 2.15443469]\n"
     ]
    }
   ],
   "source": [
    "# Find the cube root of numbers from 1 to 10\n",
    "\n",
    "import numpy as np\n",
    "\n",
    "num = list(range(1,11))\n",
    "cube_root = np.cbrt(num)\n",
    "print(cube_root)"
   ]
  },
  {
   "cell_type": "code",
   "execution_count": 59,
   "id": "6dbe5697-6d9a-49d1-8847-b7ed2d09ae99",
   "metadata": {
    "editable": true,
    "slideshow": {
     "slide_type": ""
    },
    "tags": []
   },
   "outputs": [
    {
     "name": "stdout",
     "output_type": "stream",
     "text": [
      "False\n"
     ]
    }
   ],
   "source": [
    "# Check if a given number is even\n",
    "\n",
    "num = 3\n",
    "is_even = lambda x: x % 2 == 0\n",
    "print(is_even(num))"
   ]
  },
  {
   "cell_type": "code",
   "execution_count": 63,
   "id": "1339a403-0fcc-43e9-ab16-f7313830071c",
   "metadata": {},
   "outputs": [
    {
     "name": "stdout",
     "output_type": "stream",
     "text": [
      "[1, 3, 5, 7, 9]\n",
      "[1, 3, 5, 7, 9]\n"
     ]
    }
   ],
   "source": [
    "# Filter odd numbers from the given list.\n",
    "\n",
    "list1 = [1,2,3,4,5,6,7,8,9,10]\n",
    "\n",
    "print(list(filter(lambda x : x %2 != 0, list1)))\n",
    "\n",
    "odd_list = [x for x in list1 if x % 2 != 0]\n",
    "print(odd_list)"
   ]
  },
  {
   "cell_type": "code",
   "execution_count": 68,
   "id": "dea30828-ff59-46ad-92fa-6c4bc3b4fd5d",
   "metadata": {},
   "outputs": [
    {
     "name": "stdout",
     "output_type": "stream",
     "text": [
      "[1, 2, 3, 4, 5, 6, 0] [-1, -2, -3, -4, -5]\n",
      "[1, 2, 3, 4, 5, 6, 0] [-1, -2, -3, -4, -5]\n"
     ]
    }
   ],
   "source": [
    "# Sort a list of integers into positive and negative integers lists.\n",
    "\n",
    "li = [1, 2, 3, 4, 5, 6, -1, -2, -3, -4, -5, 0]\n",
    "\n",
    "pos_list = [x for x in li if x >= 0]\n",
    "neg_list = [x for x in li if x < 0]\n",
    "\n",
    "\n",
    "pos_list1 = list(filter(lambda x: x >= 0, li))\n",
    "neg_list1 = list(filter(lambda x: x < 0, li))\n",
    "\n",
    "print(pos_list, neg_list)\n",
    "print(pos_list1, neg_list1)\n"
   ]
  },
  {
   "cell_type": "code",
   "execution_count": null,
   "id": "a494bfc3-8690-4d4f-b480-ea936e2806e8",
   "metadata": {},
   "outputs": [],
   "source": []
  }
 ],
 "metadata": {
  "kernelspec": {
   "display_name": "Python 3 (ipykernel)",
   "language": "python",
   "name": "python3"
  },
  "language_info": {
   "codemirror_mode": {
    "name": "ipython",
    "version": 3
   },
   "file_extension": ".py",
   "mimetype": "text/x-python",
   "name": "python",
   "nbconvert_exporter": "python",
   "pygments_lexer": "ipython3",
   "version": "3.11.4"
  }
 },
 "nbformat": 4,
 "nbformat_minor": 5
}
