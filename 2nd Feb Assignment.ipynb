{
 "cells": [
  {
   "cell_type": "markdown",
   "id": "08da45bb-ebff-4165-83a3-1f6ecde90747",
   "metadata": {},
   "source": [
    "### Q1. What are the characteristics of the tuples? Is tuple immutable?"
   ]
  },
  {
   "cell_type": "markdown",
   "id": "eec1c4d3-4a8f-422d-a325-5e6d55166b24",
   "metadata": {},
   "source": [
    "Tuples are created using parentheses () or the tuple() constructor.\n",
    "Tuples can contain elements of different data types.\n",
    "Elements in a tuple are accessed using indexing (e.g., tuple_name[index]).\n",
    "Tuples allow duplicate elements.\n",
    "Tuples are iterable, and you can loop through them using for loops.\n",
    "Tuples have a fixed size once created, meaning you cannot change their length.\n",
    "Yes, tuples are immutable. Once a tuple is created, you cannot modify, add, or remove elements from it. s\r\n"
   ]
  },
  {
   "cell_type": "markdown",
   "id": "43e7ad8e-61ea-42c0-b8cf-9ee2bbf2440c",
   "metadata": {},
   "source": [
    "### Q2. What are the two tuple methods in python? Give an example of each method. Give a reason why \n",
    "tuples have only two in-built methods as compared to Lists."
   ]
  },
  {
   "cell_type": "code",
   "execution_count": 3,
   "id": "a6697ffb-45f9-4d8f-8bae-8ee38df1f113",
   "metadata": {},
   "outputs": [
    {
     "name": "stdout",
     "output_type": "stream",
     "text": [
      "3\n",
      "2\n"
     ]
    }
   ],
   "source": [
    "# count(): This method is used to count the occurrences of a particular element in the tuple.\n",
    "my_tuple = (1, 2, 3, 2, 4, 2, 5)\r\n",
    "count_twos = my_tuple.count(2)\r\n",
    "print(count_twos)  # Output:  \n",
    "#index(): This method returns the index of the first occurrence of a specified element in the tuple.\n",
    "my_tuple = (10, 20, 30, 40, 50)\n",
    "index_30 = my_tuple.index(30)\n",
    "print(index_30)  # Output: 2\n",
    " \n",
    "#Reason why tuples have only two in-built methods as compared to Lists: \n",
    "#Tuples have only two in-built methods (count() and index()) compared to lists because tuples are designed to be immutable. 3\r\n"
   ]
  },
  {
   "cell_type": "markdown",
   "id": "3cff3d97-e2f1-44ee-a60e-edf0bb588fce",
   "metadata": {},
   "source": [
    "### Q3. Which collection datatypes in python do not allow duplicate items? Write a code using a set to remove duplicates from the given list."
   ]
  },
  {
   "cell_type": "code",
   "execution_count": 4,
   "id": "da9f6d28-e512-4cd4-a96b-f62ccb9c04b3",
   "metadata": {},
   "outputs": [
    {
     "name": "stdout",
     "output_type": "stream",
     "text": [
      "[1, 2, 3, 4]\n"
     ]
    }
   ],
   "source": [
    "# Sets and Dictionaries do not allow duplicate items. \n",
    "# Sets are an unordered collection of unique elements, and dictionaries are a collection of key-value pairs where each key is unique.\n",
    "\n",
    "# Code using a set to remove duplicates from the given list:\n",
    "given_list = [1, 1, 1, 2, 1, 3, 1, 4, 2, 1, 2, 2, 2, 3, 2, 4, 3, 1, 3, 2, 3, 3, 3, 4, 4, 1, 4, 2, 4, 3, 4, 4]\n",
    "\n",
    "unique_elements = set(given_list)\n",
    "\n",
    "print(list(unique_elements))"
   ]
  },
  {
   "cell_type": "markdown",
   "id": "16ec42e6-6d2b-40da-8e04-84205fc4cc04",
   "metadata": {},
   "source": [
    "### Q4. Explain the difference between the union() and update() methods for a set. Give an example of each method."
   ]
  },
  {
   "cell_type": "code",
   "execution_count": 7,
   "id": "b0809fa0-9b69-4c3f-a06f-a8cff9a47e6e",
   "metadata": {},
   "outputs": [
    {
     "name": "stdout",
     "output_type": "stream",
     "text": [
      "{1, 2, 3, 4, 5}\n",
      "{1, 2, 3}\n",
      "{3, 4, 5}\n",
      "{1, 2, 3, 4, 5}\n",
      "{3, 4, 5}\n"
     ]
    }
   ],
   "source": [
    "# union() method:\n",
    "# union() method returns a new set that contains all the unique elements from the sets involved in the operation.\n",
    "# It does not modify the original sets; instead, it creates a new set as the result of the union operation.\n",
    "# The original sets remain unchanged after the union.\n",
    "\n",
    "# Example of union() method:\n",
    "set1 = {1, 2, 3}\n",
    "set2 = {3, 4, 5}\n",
    "\n",
    "union_result = set1.union(set2)\n",
    "\n",
    "print(union_result)  # Output: {1, 2, 3, 4, 5}\n",
    "print(set1)         # Output: {1, 2, 3} (unchanged)\n",
    "print(set2)         # Output: {3, 4, 5} (unchanged)\n",
    "\n",
    "# update() method:\n",
    "# update() method modifies the original set by adding all the elements from another set into it.\n",
    "# It performs an in-place operation, meaning it changes the set on which it is called.\n",
    "# The elements from the other set are added to the original set, and any duplicates are ignored since sets cannot contain duplicates.\n",
    "\n",
    "# Example of update() method:\n",
    "set1 = {1, 2, 3}\n",
    "set2 = {3, 4, 5}\n",
    "\n",
    "set1.update(set2)\n",
    "\n",
    "print(set1)  # Output: {1, 2, 3, 4, 5} (modified)\n",
    "print(set2)  # Output: {3, 4, 5} (unchanged)"
   ]
  },
  {
   "cell_type": "markdown",
   "id": "759316e2-dd1d-4fa8-b334-84a420a5ab3d",
   "metadata": {},
   "source": [
    "### Q5. What is a dictionary? Give an example. Also, state whether a dictionary is ordered or unordered."
   ]
  },
  {
   "cell_type": "code",
   "execution_count": 8,
   "id": "3569d812-fd65-4fad-b7c4-aff2d3588735",
   "metadata": {},
   "outputs": [
    {
     "name": "stdout",
     "output_type": "stream",
     "text": [
      "{'name': 'John Doe', 'age': 30, 'occupation': 'Engineer', 'city': 'New York'}\n"
     ]
    }
   ],
   "source": [
    "# A dictionary is a built-in data type in Python that represents an unordered collection of key-value pairs.\n",
    "# Each key in the dictionary is unique and maps to a corresponding value. \n",
    "\n",
    "# Example of a dictionary:\n",
    "# Creating a dictionary representing information about a person\n",
    "person = {\n",
    "    'name': 'John Doe',\n",
    "    'age': 30,\n",
    "    'occupation': 'Engineer',\n",
    "    'city': 'New York'\n",
    "}\n",
    "\n",
    "print(person)\n",
    "\n",
    "# As of Python 3.7, dictionaries are insertion ordered."
   ]
  },
  {
   "cell_type": "markdown",
   "id": "b8fab2eb-123e-43e3-8c05-dacade987eec",
   "metadata": {},
   "source": [
    "### Q6. Can we create a nested dictionary? If so, please give an example by creating a simple one-level nested dictionary."
   ]
  },
  {
   "cell_type": "code",
   "execution_count": 9,
   "id": "50720b3d-468a-4f3b-846e-45440b2bcc9b",
   "metadata": {},
   "outputs": [
    {
     "name": "stdout",
     "output_type": "stream",
     "text": [
      "{'Alice': {'age': 25, 'major': 'Computer Science', 'GPA': 3.7}, 'Bob': {'age': 23, 'major': 'Physics', 'GPA': 3.5}, 'Charlie': {'age': 22, 'major': 'Mathematics', 'GPA': 3.9}}\n"
     ]
    }
   ],
   "source": [
    "# Yes, we can create a nested dictionary in Python.\n",
    "\n",
    "students = {\n",
    "    'Alice': {'age': 25, 'major': 'Computer Science', 'GPA': 3.7},\n",
    "    'Bob': {'age': 23, 'major': 'Physics', 'GPA': 3.5},\n",
    "    'Charlie': {'age': 22, 'major': 'Mathematics', 'GPA': 3.9}\n",
    "}\n",
    "\n",
    "print(students)\n"
   ]
  },
  {
   "cell_type": "markdown",
   "id": "a8ff3598-897d-4c6f-89e6-510e0204ddad",
   "metadata": {},
   "source": [
    "### Q7. Using setdefault() method, create key named topics in the given dictionary and also add the value of the key as this list ['Python', 'Machine Learning’, 'Deep Learning']"
   ]
  },
  {
   "cell_type": "code",
   "execution_count": 10,
   "id": "10b1271b-97da-4002-99db-c6f334604838",
   "metadata": {},
   "outputs": [
    {
     "name": "stdout",
     "output_type": "stream",
     "text": [
      "{'language': 'Python', 'course': 'Data Science Masters', 'topics': ['Python', 'Machine Learning', 'Deep Learning']}\n"
     ]
    }
   ],
   "source": [
    "dict1 = {'language': 'Python', 'course': 'Data Science Masters'}\n",
    "\n",
    "topics_list = ['Python', 'Machine Learning', 'Deep Learning']\n",
    "\n",
    "dict1.setdefault('topics', topics_list)\n",
    "\n",
    "print(dict1)\n"
   ]
  },
  {
   "cell_type": "markdown",
   "id": "9c14e082-0b8f-40d1-8c81-5bae788c622a",
   "metadata": {},
   "source": [
    "### Q8. What are the three view objects in dictionaries? Use the three in-built methods in python to display these three view objects for the given dictionary."
   ]
  },
  {
   "cell_type": "code",
   "execution_count": 11,
   "id": "8108404d-5bbf-4d4e-acd3-28a48f97706a",
   "metadata": {},
   "outputs": [
    {
     "name": "stdout",
     "output_type": "stream",
     "text": [
      "dict_keys view object: dict_keys(['Sport', 'Teams'])\n",
      "dict_values view object: dict_values(['Cricket', ['India', 'Australia', 'England', 'South Africa', 'Sri Lanka', 'New Zealand']])\n",
      "dict_items view object: dict_items([('Sport', 'Cricket'), ('Teams', ['India', 'Australia', 'England', 'South Africa', 'Sri Lanka', 'New Zealand'])])\n"
     ]
    }
   ],
   "source": [
    "# dict_keys: This view object represents a dynamic view of the dictionary's keys.\n",
    "# dict_values: This view object represents a dynamic view of the dictionary's values.\n",
    "# dict_items: This view object represents a dynamic view of the dictionary's key-value pairs (items).\n",
    "\n",
    "dict1 = {'Sport': 'Cricket', 'Teams': ['India', 'Australia', 'England', 'South Africa', 'Sri Lanka', 'New Zealand']}\n",
    "\n",
    "# Display the dict_keys view object\n",
    "keys_view = dict1.keys()\n",
    "print(\"dict_keys view object:\", keys_view)\n",
    "\n",
    "# Display the dict_values view object\n",
    "values_view = dict1.values()\n",
    "print(\"dict_values view object:\", values_view)\n",
    "\n",
    "# Display the dict_items view object\n",
    "items_view = dict1.items()\n",
    "print(\"dict_items view object:\", items_view)\n"
   ]
  },
  {
   "cell_type": "code",
   "execution_count": null,
   "id": "33ce7420-082f-4419-a5a6-0eae4577938e",
   "metadata": {},
   "outputs": [],
   "source": []
  }
 ],
 "metadata": {
  "kernelspec": {
   "display_name": "Python 3 (ipykernel)",
   "language": "python",
   "name": "python3"
  },
  "language_info": {
   "codemirror_mode": {
    "name": "ipython",
    "version": 3
   },
   "file_extension": ".py",
   "mimetype": "text/x-python",
   "name": "python",
   "nbconvert_exporter": "python",
   "pygments_lexer": "ipython3",
   "version": "3.11.4"
  }
 },
 "nbformat": 4,
 "nbformat_minor": 5
}
