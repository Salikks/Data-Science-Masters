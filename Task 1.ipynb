{
 "cells": [
  {
   "cell_type": "markdown",
   "id": "f8881cc1-f946-4c24-a596-56984194d2fc",
   "metadata": {},
   "source": [
    "### Q1. Create a function which will take a list as an argument and return the product of all the numbers after creating a flat list.\n"
   ]
  },
  {
   "cell_type": "code",
   "execution_count": 29,
   "id": "2d49c373-6b6f-4fc1-af1a-8722fa943887",
   "metadata": {},
   "outputs": [
    {
     "name": "stdout",
     "output_type": "stream",
     "text": [
      "[1, 2, 3, 4, 44, 55, 66, True, False, 34, 56, 78, 89, 34, 1, 2, 3, 1, 'key2', 4, 34, 55, 67, 78, 89, 45, 22, 61, 34, 56, 'data science', 'Machine Learning']\n",
      "4134711838987085478833841242112000\n"
     ]
    }
   ],
   "source": [
    "def flatten_list(lst):\n",
    "    flat_list = []\n",
    "    for item in lst:\n",
    "        if isinstance(item, (list, set, tuple)):\n",
    "            flat_list.extend(item)  \n",
    "        elif isinstance(item, dict):\n",
    "            flat_list.extend(item.keys())  # Append dictionary keys\n",
    "            for value in item.values():\n",
    "                if isinstance(value, (list, tuple)):\n",
    "                    flat_list.extend(value)\n",
    "                else:\n",
    "                    flat_list.append(value)\n",
    "        else:\n",
    "            flat_list.append(item)\n",
    "    return flat_list\n",
    "\n",
    "def product_of_integers(lst):\n",
    "    flat_list = flatten_list(lst)\n",
    "    product = 1\n",
    "    for item in flat_list:\n",
    "        if isinstance(item, (int, float)):\n",
    "            if item:\n",
    "                product *= item\n",
    "    return product\n",
    "\n",
    "list1 = [1, 2, 3, 4, [44, 55, 66, True], False, (34, 56, 78, 89, 34), {1, 2, 3, 3, 2, 1},\n",
    "         {1: 34, \"key2\": [55, 67, 78, 89], 4: (45, 22, 61, 34)}, [56, 'data science'], 'Machine Learning']\n",
    "\n",
    "result = product_of_integers(list1)\n",
    "print(flatten_list(list1))\n",
    "print(result)\n"
   ]
  },
  {
   "cell_type": "markdown",
   "id": "83585461-34c7-4cce-8e8c-e7fd243352d7",
   "metadata": {},
   "source": [
    "### Q2. Write a python program for encrypting a message sent to you by your friend. The logic of encryption should be such that, for a the output should be z. For b, the output should be y. For c, the output should be x respectively. Also, the whitespace should be replaced with a dollar sign. Keep the punctuation marks unchanged."
   ]
  },
  {
   "cell_type": "code",
   "execution_count": 36,
   "id": "1639b70e-ae46-44b2-90f4-d98e8424d7c6",
   "metadata": {},
   "outputs": [
    {
     "name": "stdout",
     "output_type": "stream",
     "text": [
      "Encrypted Message: r$dzmg$gl$yvxlnv$z$wzgz$hxrvmgrhg.\n"
     ]
    }
   ],
   "source": [
    "def encrypt_message(message):\n",
    "    encrypted = \"\"\n",
    "    for char in message:\n",
    "        if char.isalpha():\n",
    "            encrypted += chr(ord('z') - (ord(char.lower()) - ord('a')))\n",
    "        elif char.isspace():\n",
    "            encrypted += '$'\n",
    "        else:\n",
    "            encrypted += char\n",
    "\n",
    "    return encrypted\n",
    "\n",
    "input_sentence = \"I want to become a Data Scientist.\"\n",
    "encrypted_message = encrypt_message(input_sentence)\n",
    "print(\"Encrypted Message:\", encrypted_message)\n"
   ]
  }
 ],
 "metadata": {
  "kernelspec": {
   "display_name": "Python 3 (ipykernel)",
   "language": "python",
   "name": "python3"
  },
  "language_info": {
   "codemirror_mode": {
    "name": "ipython",
    "version": 3
   },
   "file_extension": ".py",
   "mimetype": "text/x-python",
   "name": "python",
   "nbconvert_exporter": "python",
   "pygments_lexer": "ipython3",
   "version": "3.11.4"
  }
 },
 "nbformat": 4,
 "nbformat_minor": 5
}
