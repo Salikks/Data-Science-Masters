{
 "cells": [
  {
   "cell_type": "markdown",
   "id": "ce9744b1-7735-4c10-9a35-960c4f183356",
   "metadata": {},
   "source": [
    "### Q1. What is multiprocessing in python? Why is it useful?"
   ]
  },
  {
   "cell_type": "markdown",
   "id": "ccdd9ada-bd57-41a0-a39c-2d975fcba2e1",
   "metadata": {},
   "source": [
    "Multiprocessing in Python refers to the capability of the Python programming language to create and manage multiple processes concurrently. It allows you to execute multiple tasks or programs in parallel, taking advantage of modern multi-core processors and improving the overall performance of your applications. \n",
    "\n",
    "**Concurrent Execution:** Multiprocessing allows multiple processes to run simultaneously, utilizing multi-core CPUs effectively.\n",
    "\n",
    "**Performance Boost:** It improves program performance by parallelizing tasks that can be done concurrently.\n",
    "\n",
    "**Task Division:** Complex tasks can be split into smaller subtasks, processed in parallel, reducing overall execution time."
   ]
  },
  {
   "cell_type": "markdown",
   "id": "ffa5d98d-d98d-4cc4-adaf-f3f23d03fad7",
   "metadata": {},
   "source": [
    "### Q2. What are the differences between multiprocessing and multithreading?"
   ]
  },
  {
   "cell_type": "markdown",
   "id": "f331a3c5-a3f2-4ee8-b5a8-7f89050f2259",
   "metadata": {},
   "source": [
    "Multiprocessing: In multiprocessing, different processes run truly in parallel, taking advantage of multiple CPU cores. This is beneficial for tasks that require a lot of computational power, as each process can run independently. Each process has its own memory space, which prevents conflicts between tasks. This is useful when tasks need to be isolated from each other, such as complex simulations or data processing.\n",
    "\n",
    "Multithreading: Multithreading operates within a single process and shares the same memory space. However, due to the Global Interpreter Lock (GIL) in CPython, only one thread can execute Python code at a time, which limits true parallel execution. Multithreading is more suited for tasks that involve I/O operations, like reading and writing files or network communication. Threads can wait for I/O operations without blocking the entire program."
   ]
  },
  {
   "cell_type": "markdown",
   "id": "feeb0b8e-48ac-4773-8571-4ecd49d3453d",
   "metadata": {},
   "source": [
    "### Q3. Write a python code to create a process using the multiprocessing module."
   ]
  },
  {
   "cell_type": "code",
   "execution_count": 10,
   "id": "720b876f-b7cb-4249-9183-2a15e3594ebc",
   "metadata": {},
   "outputs": [
    {
     "name": "stdout",
     "output_type": "stream",
     "text": [
      "Even numbers are:  [2, 4, 6, 8, 10, 12, 14, 16, 18, 20, 22, 24, 26, 28, 30, 32, 34, 36, 38, 40, 42, 44, 46, 48, 50, 52, 54, 56, 58, 60, 62, 64, 66, 68, 70, 72, 74, 76, 78, 80, 82, 84, 86, 88, 90, 92, 94, 96, 98]\n"
     ]
    }
   ],
   "source": [
    "import multiprocessing\n",
    "\n",
    "def even(num):\n",
    "    if num % 2 == 0:\n",
    "        return num\n",
    "    else: pass\n",
    "    \n",
    "if __name__ == '__main__':\n",
    "    with multiprocessing.Pool(processes = 5) as pool:\n",
    "        nums = list(range(1,100))\n",
    "        outcome = pool.map(even, nums)\n",
    "        even_nums = [n for n in outcome if n ]\n",
    "        print('Even numbers are: ', even_nums)\n",
    "        "
   ]
  },
  {
   "cell_type": "markdown",
   "id": "decfcd8f-3257-4f02-83d9-36a8eed9ab5d",
   "metadata": {},
   "source": [
    "### Q4. What is a multiprocessing pool in python? Why is it used?"
   ]
  },
  {
   "cell_type": "markdown",
   "id": "cd5d5e18-58ae-4f04-af4b-3054fe0d1679",
   "metadata": {},
   "source": [
    "A multiprocessing pool in Python is a construct provided by the multiprocessing module that allows you to create a group of worker processes, commonly referred to as a \"pool,\" which can efficiently execute a specified function across multiple inputs in parallel. \n",
    "\n",
    "The main advantages of using a multiprocessing pool are:\n",
    "\n",
    "Parallel Execution: A pool allows you to distribute the workload across multiple processes, taking advantage of multiple CPU cores available on your machine. This can significantly speed up the execution of tasks, especially when the tasks are CPU-bound and can be performed concurrently.\n",
    "\n",
    "Simplified Management: With a pool, you don't need to manually create, start, and manage individual processes. The pool abstracts this complexity, making it easier to focus on defining the task to be executed and the data it should operate on.\n",
    "\n",
    "Efficient Resource Utilization: The pool manages the creation and recycling of worker processes, ensuring that resources are used efficiently and that processes are reused for multiple tasks, reducing the overhead of process creation and termination."
   ]
  },
  {
   "cell_type": "markdown",
   "id": "8d349a19-d001-4256-ba2b-57fad5d86a0f",
   "metadata": {},
   "source": [
    "### Q5. How can we create a pool of worker processes in python using the multiprocessing module?"
   ]
  },
  {
   "cell_type": "code",
   "execution_count": 11,
   "id": "a68b34fa-886b-43e4-8c2b-f92be9436feb",
   "metadata": {},
   "outputs": [
    {
     "name": "stdout",
     "output_type": "stream",
     "text": [
      "Results: [1, 4, 9, 16, 25, 36, 49, 64, 81, 100]\n"
     ]
    }
   ],
   "source": [
    "# We can create a pool of worker processes in Python using the multiprocessing module's Pool class.\n",
    "# The Pool class abstracts the management of worker processes and provides methods to apply functions to multiple inputs concurrently.\n",
    "\n",
    "import multiprocessing\n",
    "\n",
    "def worker_function(x):\n",
    "    return x * x\n",
    "\n",
    "if __name__ == '__main__':\n",
    "    inputs = [1, 2, 3, 4, 5, 6, 7, 8, 9, 10]\n",
    "\n",
    "    with multiprocessing.Pool(processes=4) as pool:\n",
    "        results = pool.map(worker_function, inputs)\n",
    "\n",
    "    print(\"Results:\", results)\n"
   ]
  },
  {
   "cell_type": "markdown",
   "id": "c3f247cd-3ff9-49e4-b882-3de014c48584",
   "metadata": {},
   "source": [
    "### Q6. Write a python program to create 4 processes, each process should print a different number using the multiprocessing module in python."
   ]
  },
  {
   "cell_type": "code",
   "execution_count": 40,
   "id": "bea1e517-59a8-44be-b075-232db3f1ce76",
   "metadata": {},
   "outputs": [
    {
     "name": "stdout",
     "output_type": "stream",
     "text": [
      "Process 1 =  1\n",
      "Process 2 = 2 \n",
      "Process 3 =  3\n",
      "Process 4 =  4\n"
     ]
    }
   ],
   "source": [
    "import multiprocessing\n",
    "\n",
    "def print_num(lock, num):\n",
    "    with lock:\n",
    "        print(f'Process {num} =', num)\n",
    "    \n",
    "if __name__ == '__main__':\n",
    "    lock = multiprocessing.Lock()\n",
    "    processes = []\n",
    "    \n",
    "    for i in range(1, 5):\n",
    "        process = multiprocessing.Process(target=print_num, args=(lock, i))\n",
    "        processes.append(process)\n",
    "        process.start()\n",
    "        \n",
    "    for process in processes:\n",
    "        process.join()\n"
   ]
  },
  {
   "cell_type": "code",
   "execution_count": null,
   "id": "1ef93c9c-b038-4cea-a67d-553e9397210f",
   "metadata": {},
   "outputs": [],
   "source": []
  }
 ],
 "metadata": {
  "kernelspec": {
   "display_name": "Python 3 (ipykernel)",
   "language": "python",
   "name": "python3"
  },
  "language_info": {
   "codemirror_mode": {
    "name": "ipython",
    "version": 3
   },
   "file_extension": ".py",
   "mimetype": "text/x-python",
   "name": "python",
   "nbconvert_exporter": "python",
   "pygments_lexer": "ipython3",
   "version": "3.10.8"
  }
 },
 "nbformat": 4,
 "nbformat_minor": 5
}
